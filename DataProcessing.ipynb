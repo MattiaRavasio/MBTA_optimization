{
 "cells": [
  {
   "cell_type": "code",
   "execution_count": 66,
   "metadata": {},
   "outputs": [],
   "source": [
    "import numpy as np\n",
    "import random\n",
    "import pysindy as ps\n",
    "import pandas as pd\n",
    "import matplotlib.pyplot as plt\n",
    "from sklearn.metrics import mean_squared_error\n",
    "pd.options.mode.chained_assignment = None"
   ]
  },
  {
   "cell_type": "code",
   "execution_count": 44,
   "metadata": {},
   "outputs": [],
   "source": [
    "df = pd.read_csv(\"MBTA_data.csv\")"
   ]
  },
  {
   "cell_type": "code",
   "execution_count": 45,
   "metadata": {},
   "outputs": [],
   "source": [
    "data = df[(df.day_type_name == \"weekday\") & (df.season == \"Fall 2019\")]"
   ]
  },
  {
   "cell_type": "code",
   "execution_count": 46,
   "metadata": {},
   "outputs": [],
   "source": [
    "data.stop_name = np.where(data.stop_id == 'place-stpul', 'St Pul Street', data.stop_name)"
   ]
  },
  {
   "cell_type": "code",
   "execution_count": 47,
   "metadata": {},
   "outputs": [],
   "source": [
    "time_windows_order = [\"VERY_EARLY_MORNING\", \"EARLY_AM\", \"AM_PEAK\", \"MIDDAY_SCHOOL\",\n",
    "                     \"MIDDAY_BASE\", \"PM_PEAK\", \"EVENING\", \"LATE_EVENING\", \"NIGHT\"]"
   ]
  },
  {
   "cell_type": "markdown",
   "metadata": {},
   "source": [
    "### Average Flow for the blue line"
   ]
  },
  {
   "cell_type": "code",
   "execution_count": 48,
   "metadata": {},
   "outputs": [],
   "source": [
    "#### No offpeak for the blue line\n",
    "Blue1_dataset = data[(data.route_name == \"Blue Line\") & (data.direction_id == 0)].drop(['ObjectId', 'mode', 'season', 'route_id', \n",
    "       'day_type_id', 'time_period_id',  'stop_id', 'total_ons', 'total_offs',\n",
    "       'number_service_days', 'average_ons', 'average_offs', ], axis=1)\n",
    "\n",
    "Blue1_dataset = Blue1_dataset.pivot(index='stop_name', values='average_flow', columns = \"time_period_name\").reset_index()[time_windows_order]"
   ]
  },
  {
   "cell_type": "code",
   "execution_count": 49,
   "metadata": {},
   "outputs": [],
   "source": [
    "Blue2_dataset = data[(data.route_name == \"Blue Line\") & (data.direction_id == 1)].drop(['ObjectId', 'mode', 'season', 'route_id', \n",
    "       'day_type_id', 'time_period_id',  'stop_id', 'total_ons', 'total_offs',\n",
    "       'number_service_days', 'average_ons', 'average_offs', ], axis=1)\n",
    "\n",
    "Blue2_dataset = Blue2_dataset.pivot(index='stop_name', values='average_flow', columns = \"time_period_name\").reset_index()[time_windows_order]"
   ]
  },
  {
   "cell_type": "code",
   "execution_count": 50,
   "metadata": {},
   "outputs": [
    {
     "data": {
      "text/plain": [
       "(2, 12, 9)"
      ]
     },
     "execution_count": 50,
     "metadata": {},
     "output_type": "execute_result"
    }
   ],
   "source": [
    "### AvgFlow\n",
    "np.stack((Blue1_dataset.values, Blue2_dataset.values)).shape"
   ]
  },
  {
   "cell_type": "markdown",
   "metadata": {},
   "source": [
    "### Orange Line"
   ]
  },
  {
   "cell_type": "code",
   "execution_count": 51,
   "metadata": {},
   "outputs": [],
   "source": [
    "Orange1_dataset = data[ (data.route_name == \"Orange Line\") & (data.direction_id == 0)].drop(['ObjectId', 'mode', 'season', 'route_id', \n",
    "       'day_type_id', 'time_period_id',  'stop_id', 'total_ons', 'total_offs',\n",
    "       'number_service_days', 'average_ons', 'average_offs', ], axis=1)\n",
    "\n",
    "Orange1_dataset = Orange1_dataset.pivot(index='stop_name', values='average_flow', columns = \"time_period_name\").reset_index()[time_windows_order]"
   ]
  },
  {
   "cell_type": "code",
   "execution_count": 52,
   "metadata": {},
   "outputs": [],
   "source": [
    "Orange2_dataset = data[(data.route_name == \"Orange Line\") & (data.direction_id == 1)].drop(['ObjectId', 'mode', 'season', 'route_id', \n",
    "       'day_type_id', 'time_period_id',  'stop_id', 'total_ons', 'total_offs',\n",
    "       'number_service_days', 'average_ons', 'average_offs', ], axis=1)\n",
    "\n",
    "Orange2_dataset = Orange2_dataset.pivot(index='stop_name', values='average_flow', columns = \"time_period_name\").reset_index()[time_windows_order]"
   ]
  },
  {
   "cell_type": "code",
   "execution_count": 53,
   "metadata": {},
   "outputs": [
    {
     "data": {
      "text/plain": [
       "(2, 20, 9)"
      ]
     },
     "execution_count": 53,
     "metadata": {},
     "output_type": "execute_result"
    }
   ],
   "source": [
    "### AvgFlow\n",
    "np.stack((Orange1_dataset.values, Orange2_dataset.values)).shape"
   ]
  },
  {
   "cell_type": "markdown",
   "metadata": {},
   "source": [
    "### Red Line"
   ]
  },
  {
   "cell_type": "code",
   "execution_count": 54,
   "metadata": {},
   "outputs": [
    {
     "data": {
      "text/plain": [
       "array(['Allston Street', 'Arlington', 'Babcock Street',\n",
       "       'Back of the Hill', 'Beaconsfield', 'Washington Square',\n",
       "       'Blandford Street', 'Brandon Hall', 'Boylston', 'Packards Corner',\n",
       "       'Brookline Hills', 'Brigham Circle', 'Boston Univ. Central',\n",
       "       'Boston Univ. East', 'Boston Univ. West', 'Brookline Village',\n",
       "       'Chestnut Hill', 'Chestnut Hill Ave.', 'Chiswick Road',\n",
       "       'Cleveland Circle', 'Copley', 'Coolidge Corner', 'Dean Road',\n",
       "       'Eliot', 'Englewood Ave.', 'Fairbanks Street', 'Fenwood Road',\n",
       "       'Fenway', 'Government Center', 'Griggs Street', 'Haymarket',\n",
       "       'Harvard Ave.', 'Heath Street', 'Hawes Street',\n",
       "       'Hynes Convention Center', 'Kenmore', 'Kent Street',\n",
       "       'Boston College', 'Lechmere', 'Longwood Medical Area', 'Longwood',\n",
       "       'Museum of Fine Arts', 'Mission Park', 'Newton Highlands',\n",
       "       'Newton Centre', 'North Station', 'Northeastern University',\n",
       "       'Park Street', 'Pleasant Street', 'Prudential', 'Riverside',\n",
       "       'Reservoir', 'Riverway', 'Saint Mary Street', 'South Street',\n",
       "       'Science Park', 'Sutherland Road', 'Saint Paul Street',\n",
       "       'St Pul Street', 'Summit Ave.', 'Symphony', 'Tappan Street',\n",
       "       'Waban', 'Washington Street', 'Woodland', 'Warren Street'],\n",
       "      dtype=object)"
      ]
     },
     "execution_count": 54,
     "metadata": {},
     "output_type": "execute_result"
    }
   ],
   "source": [
    "data[(data.route_name == \"Green Line\") & (data.direction_id == 1)].drop(['ObjectId', 'mode', 'season', 'route_id', \n",
    "       'day_type_id', 'time_period_id',  'stop_id', 'total_ons', 'total_offs',\n",
    "       'number_service_days', 'average_ons', 'average_offs', ], axis=1).stop_name.unique()"
   ]
  },
  {
   "cell_type": "code",
   "execution_count": 55,
   "metadata": {},
   "outputs": [],
   "source": [
    "Red1_dataset = data[(data.route_name == \"Red Line\") & (data.direction_id == 1)].drop(['ObjectId', 'mode', 'season', 'route_id', \n",
    "       'day_type_id', 'time_period_id',  'stop_id', 'total_ons', 'total_offs',\n",
    "       'number_service_days', 'average_ons', 'average_offs', ], axis=1)\n",
    "\n",
    "Red1_dataset = Red1_dataset.pivot(index='stop_name', values='average_flow', columns = \"time_period_name\").reset_index()[time_windows_order]"
   ]
  },
  {
   "cell_type": "code",
   "execution_count": 56,
   "metadata": {},
   "outputs": [],
   "source": [
    "Red2_dataset = data[(data.route_name == \"Red Line\") & (data.direction_id == 0)].drop(['ObjectId', 'mode', 'season', 'route_id', \n",
    "       'day_type_id', 'time_period_id',  'stop_id', 'total_ons', 'total_offs',\n",
    "       'number_service_days', 'average_ons', 'average_offs', ], axis=1)\n",
    "\n",
    "Red2_dataset = Red2_dataset.pivot(index='stop_name', values='average_flow', columns = \"time_period_name\").reset_index()[time_windows_order]"
   ]
  },
  {
   "cell_type": "code",
   "execution_count": 57,
   "metadata": {},
   "outputs": [
    {
     "data": {
      "text/plain": [
       "(2, 22, 9)"
      ]
     },
     "execution_count": 57,
     "metadata": {},
     "output_type": "execute_result"
    }
   ],
   "source": [
    "np.stack((Red1_dataset.values, Red2_dataset.values)).shape"
   ]
  },
  {
   "cell_type": "markdown",
   "metadata": {},
   "source": [
    "### Green Line"
   ]
  },
  {
   "cell_type": "code",
   "execution_count": 58,
   "metadata": {},
   "outputs": [],
   "source": [
    "Green1_dataset = data[(data.route_name == \"Green Line\") & (data.direction_id == 1)].drop(['ObjectId', 'mode', 'season', 'route_id', \n",
    "       'day_type_id', 'time_period_id',  'stop_id', 'total_ons', 'total_offs',\n",
    "       'number_service_days', 'average_ons', 'average_offs', ], axis=1)\n",
    "\n",
    "Green1_dataset = Green1_dataset.pivot(index='stop_name', values='average_flow', columns = \"time_period_name\").reset_index()[time_windows_order]"
   ]
  },
  {
   "cell_type": "code",
   "execution_count": 59,
   "metadata": {},
   "outputs": [],
   "source": [
    "Green2_dataset = data[(data.route_name == \"Green Line\") & (data.direction_id == 0)].drop(['ObjectId', 'mode', 'season', 'route_id',\n",
    "         'day_type_id', 'time_period_id',  'stop_id', 'total_ons', 'total_offs',\n",
    "         'number_service_days', 'average_ons', 'average_offs', ], axis=1)   \n",
    "\n",
    "Green2_dataset = Green2_dataset.pivot(index='stop_name', values='average_flow', columns = \"time_period_name\").reset_index()[time_windows_order]"
   ]
  },
  {
   "cell_type": "code",
   "execution_count": 60,
   "metadata": {},
   "outputs": [
    {
     "data": {
      "text/plain": [
       "(2, 66, 9)"
      ]
     },
     "execution_count": 60,
     "metadata": {},
     "output_type": "execute_result"
    }
   ],
   "source": [
    "np.stack((Green1_dataset.values, Green2_dataset.values)).shape"
   ]
  },
  {
   "cell_type": "markdown",
   "metadata": {},
   "source": [
    "### Saving tables"
   ]
  },
  {
   "cell_type": "code",
   "execution_count": 61,
   "metadata": {},
   "outputs": [],
   "source": [
    "Blue1_dataset.columns.name = None\n",
    "Blue2_dataset.columns.name = None\n",
    "\n",
    "Orange1_dataset.columns.name = None\n",
    "Orange2_dataset.columns.name = None\n",
    "\n",
    "Red1_dataset.columns.name = None\n",
    "Red2_dataset.columns.name = None\n",
    "\n",
    "Green1_dataset.columns.name = None\n",
    "Green2_dataset.columns.name = None"
   ]
  },
  {
   "cell_type": "code",
   "execution_count": 62,
   "metadata": {},
   "outputs": [],
   "source": [
    "Blue1_dataset.to_csv(\"processed_data/Blue1_dataset.csv\", index=False)\n",
    "Blue2_dataset.to_csv(\"processed_data/Blue2_dataset.csv\", index=False)\n",
    "\n",
    "Orange1_dataset.to_csv(\"processed_data/Orange1_dataset.csv\", index=False)\n",
    "Orange2_dataset.to_csv(\"processed_data/Orange2_dataset.csv\", index=False)\n",
    "\n",
    "Red1_dataset.to_csv(\"processed_data/Red1_dataset.csv\", index=False)\n",
    "Red2_dataset.to_csv(\"processed_data/Red2_dataset.csv\", index=False)\n",
    "\n",
    "Green1_dataset.to_csv(\"processed_data/Green1_dataset.csv\", index=False)\n",
    "Green2_dataset.to_csv(\"processed_data/Green2_dataset.csv\", index=False)"
   ]
  },
  {
   "cell_type": "code",
   "execution_count": 79,
   "metadata": {},
   "outputs": [],
   "source": [
    "Blue1_std = np.random.uniform(0.02, 0.06,Blue1_dataset.shape) * Blue1_dataset\n",
    "Blue2_std = np.random.uniform(0.02, 0.06,Blue2_dataset.shape) * Blue2_dataset\n",
    "\n",
    "Orange1_std = np.random.uniform(0.02, 0.06,Orange1_dataset.shape) * Orange1_dataset\n",
    "Orange2_std = np.random.uniform(0.02, 0.06,Orange2_dataset.shape) * Orange2_dataset\n",
    "\n",
    "Red1_std = np.random.uniform(0.02, 0.06,Red1_dataset.shape) * Red1_dataset\n",
    "Red2_std = np.random.uniform(0.02, 0.06,Red2_dataset.shape) * Red2_dataset\n",
    "\n",
    "Green1_std = np.random.uniform(0.02, 0.06,Green1_dataset.shape) * Green1_dataset\n",
    "Green2_std = np.random.uniform(0.02, 0.06,Green2_dataset.shape) * Green2_dataset"
   ]
  },
  {
   "cell_type": "code",
   "execution_count": 82,
   "metadata": {},
   "outputs": [],
   "source": [
    "Blue1_std.astype(int).to_csv(\"processed_data/Blue1_std.csv\", index=False)\n",
    "Blue2_std.astype(int).to_csv(\"processed_data/Blue2_std.csv\", index=False)\n",
    "\n",
    "Orange1_std.astype(int).to_csv(\"processed_data/Orange1_std.csv\", index=False)\n",
    "Orange2_std.astype(int).to_csv(\"processed_data/Orange2_std.csv\", index=False)\n",
    "\n",
    "Red1_std.astype(int).to_csv(\"processed_data/Red1_std.csv\", index=False)\n",
    "Red2_std.astype(int).to_csv(\"processed_data/Red2_std.csv\", index=False)\n",
    "\n",
    "Green1_std.astype(int).to_csv(\"processed_data/Green1_std.csv\", index=False)\n",
    "Green2_std.astype(int).to_csv(\"processed_data/Green2_std.csv\", index=False)"
   ]
  }
 ],
 "metadata": {
  "kernelspec": {
   "display_name": "Python 3.9.12 ('base')",
   "language": "python",
   "name": "python3"
  },
  "language_info": {
   "codemirror_mode": {
    "name": "ipython",
    "version": 3
   },
   "file_extension": ".py",
   "mimetype": "text/x-python",
   "name": "python",
   "nbconvert_exporter": "python",
   "pygments_lexer": "ipython3",
   "version": "3.9.12"
  },
  "orig_nbformat": 4,
  "vscode": {
   "interpreter": {
    "hash": "40d3a090f54c6569ab1632332b64b2c03c39dcf918b08424e98f38b5ae0af88f"
   }
  }
 },
 "nbformat": 4,
 "nbformat_minor": 2
}
