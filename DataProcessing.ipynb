{
 "cells": [
  {
   "cell_type": "code",
   "execution_count": 2,
   "metadata": {},
   "outputs": [],
   "source": [
    "import numpy as np\n",
    "import pysindy as ps\n",
    "import pandas as pd\n",
    "import matplotlib.pyplot as plt\n",
    "from sklearn.metrics import mean_squared_error\n",
    "pd.options.mode.chained_assignment = None"
   ]
  },
  {
   "cell_type": "code",
   "execution_count": 3,
   "metadata": {},
   "outputs": [],
   "source": [
    "df = pd.read_csv(\"MBTA_data.csv\")"
   ]
  },
  {
   "cell_type": "code",
   "execution_count": 4,
   "metadata": {},
   "outputs": [],
   "source": [
    "d = {}\n",
    "\n",
    "for i in df.route_name.unique():\n",
    "    d[i] = len(df[df.route_name == i].stop_name.unique())"
   ]
  },
  {
   "cell_type": "code",
   "execution_count": 5,
   "metadata": {},
   "outputs": [],
   "source": [
    "d = {}\n",
    "\n",
    "for i in df.day_type_name.unique():\n",
    "    d[i] = list(df[df.day_type_name == i].time_period_name.unique())"
   ]
  },
  {
   "cell_type": "code",
   "execution_count": 6,
   "metadata": {},
   "outputs": [],
   "source": [
    "data = df[(df.day_type_name == \"weekday\") & (df.season == \"Fall 2019\")]"
   ]
  },
  {
   "cell_type": "code",
   "execution_count": 7,
   "metadata": {},
   "outputs": [],
   "source": [
    "data.stop_name = np.where(data.stop_id == 'place-stpul', 'St Pul Street', data.stop_name)"
   ]
  },
  {
   "cell_type": "code",
   "execution_count": 8,
   "metadata": {},
   "outputs": [],
   "source": [
    "d = {}\n",
    "\n",
    "for i in df.route_id.unique():\n",
    "    d[i] = list(df[df.route_id == i].stop_name.unique())"
   ]
  },
  {
   "cell_type": "code",
   "execution_count": 9,
   "metadata": {},
   "outputs": [],
   "source": [
    "### names for red lines\n",
    "\n",
    "Red1 = [\"Alewife\", \"Davis\", \"Porter\", \"Harvard\", \"Central\", \"Kendall/MIT\", \"Charles/MGH\",\n",
    "     \"Park Street\", \"Downtown Crossing\", \"South Station\", \"Broadway\", \"Andrew\", \"JFK/Umass\", \"Savin Hill\", \"Fields Corner\", \"Shawmut\", \"Ashmont\"]\n",
    "\n",
    "Red2 = [\"Alewife\", \"Davis\", \"Porter\", \"Harvard\", \"Central\", \"Kendall/MIT\", \"Charles/MGH\",\n",
    "     \"Park Street\", \"Downtown Crossing\", \"South Station\", \"Broadway\", \"Andrew\", \"JFK/Umass\", \"North Quincy\", \"Wollaston\", \"Quincy Center\", \"Quincy Adams\", \"Braintree\"]\n",
    "\n",
    "Red3 = Red1[::-1].copy()\n",
    "\n",
    "Red4 = Red2[::-1].copy()"
   ]
  },
  {
   "cell_type": "code",
   "execution_count": 10,
   "metadata": {},
   "outputs": [],
   "source": [
    "### Names for Blue line --> NOT IN ORDER\n",
    "Blue1 = ['Airport',\n",
    " 'Aquarium',\n",
    " 'Beachmont',\n",
    " 'Bowdoin',\n",
    " 'Government Center',\n",
    " 'Maverick',\n",
    " 'Orient Heights',\n",
    " 'Revere Beach',\n",
    " 'Suffolk Downs',\n",
    " 'State Street',\n",
    " 'Wood Island',\n",
    " 'Wonderland']\n",
    "\n",
    "Blue2 = Blue1[::-1].copy()"
   ]
  },
  {
   "cell_type": "code",
   "execution_count": 11,
   "metadata": {},
   "outputs": [],
   "source": [
    "### Names for Orange line --> NOT IN ORDER\n",
    "Orange1 = ['Malden Center',\n",
    " 'North Station',\n",
    " 'Oak Grove',\n",
    " 'Roxbury Crossing',\n",
    " 'Ruggles',\n",
    " 'Stony Brook',\n",
    " 'State Street',\n",
    " 'Sullivan Square',\n",
    " 'Tufts Medical Center',\n",
    " 'Wellington',\n",
    " 'Assembly',\n",
    " 'Back Bay',\n",
    " 'Community College',\n",
    " 'Chinatown',\n",
    " 'Downtown Crossing',\n",
    " 'Forest Hills',\n",
    " 'Green Street',\n",
    " 'Haymarket',\n",
    " 'Jackson Square',\n",
    " 'Massachusetts Ave.']\n",
    "\n",
    "Orange2 = Orange1[::-1].copy()\n"
   ]
  },
  {
   "cell_type": "code",
   "execution_count": 12,
   "metadata": {},
   "outputs": [
    {
     "data": {
      "text/plain": [
       "False"
      ]
     },
     "execution_count": 12,
     "metadata": {},
     "output_type": "execute_result"
    }
   ],
   "source": [
    "'Chestnut Hill Ave' in d[\"Green\"]"
   ]
  },
  {
   "cell_type": "code",
   "execution_count": 13,
   "metadata": {},
   "outputs": [],
   "source": [
    "###### Green line B\n",
    "Green1 = ['Lechmere', 'Science Park', 'North Station', 'Haymarket', 'Government Center', 'Park Street', 'Boylston',\n",
    " 'Arlington', 'Copley', 'Hynes Convention Center', 'Kenmore', 'Blandford Street', 'Boston Univ. East', \n",
    " 'Boston Univ. Central', 'Boston Univ. West', 'Saint Paul Street', 'Pleasant Street', 'Babcock Street',\n",
    " 'Harvard Ave.','Griggs Street', 'Allston Street', 'Warren Street', 'Washington Street', 'Sutherland Road',\n",
    "'Chiswick Road', 'Chestnut Hill Ave.', 'South Street']\n",
    "\n",
    "Green2 = Green1[::-1].copy()\n",
    "\n"
   ]
  },
  {
   "cell_type": "code",
   "execution_count": 14,
   "metadata": {},
   "outputs": [],
   "source": [
    "####Green line C\n",
    "\n",
    "Green3 = ['Government Center', 'Park Street', 'Boylston', 'Arlington', 'Copley', 'Hynes Convention Center', 'Kenmore', \n",
    "'Saint Mary Street', 'Hawes Street', 'Kent Street', 'Saint Paul Street', 'Coolidge Corner', 'Summit Ave.', \n",
    "'Brandon Hall', 'Fairbanks Street', 'Washington Square', 'Tappan Street', 'Dean Road', 'Englewood Ave.', 'Cleveland Circle']\n",
    "\n",
    "Green4 = Green3[::-1].copy()"
   ]
  },
  {
   "cell_type": "code",
   "execution_count": 15,
   "metadata": {},
   "outputs": [],
   "source": [
    "####Green line D\n",
    "Green5 = ['Lechmere', 'Science Park', 'North Station', 'Haymarket', 'Government Center', 'Park Street', 'Boylston', \n",
    "'Arlington', 'Copley', 'Hynes Convention Center', 'Kenmore', 'Fenway', 'Longwood', 'Brookline Village', 'Brookline Hills',\n",
    "'Beaconsfield', 'Reservoir', 'Chestnut Hill Ave.', 'Newton Centre', 'Newton Highlands', 'Eliot', 'Waban', 'Woodland', \n",
    "'Riverside']\n",
    "\n",
    "Green6 = Green5[::-1].copy()"
   ]
  },
  {
   "cell_type": "code",
   "execution_count": 16,
   "metadata": {},
   "outputs": [],
   "source": [
    "#### Line Green E\n",
    "Green7 = ['Lechmere', 'Science Park', 'North Station', 'Haymarket', 'Government Center', 'Park Street', 'Boylston',\n",
    "    'Arlington', 'Copley', 'Prudential', 'Symphony', 'Northeastern University', 'Museum of Fine Arts', 'Longwood',\n",
    "    'Brigham Circle', 'Fenwood Road', 'Mission Park', 'Riverway', 'Back of the Hill', 'Heath Street']\n",
    "\n",
    "Green8 = Green7[::-1].copy()"
   ]
  },
  {
   "cell_type": "code",
   "execution_count": 17,
   "metadata": {},
   "outputs": [],
   "source": [
    "#To check for belongings\n",
    "for i in Red1:\n",
    "    if i not in d[\"Red\"]:\n",
    "        print(i)"
   ]
  },
  {
   "cell_type": "markdown",
   "metadata": {},
   "source": [
    "### Average Flow for the blue line"
   ]
  },
  {
   "cell_type": "code",
   "execution_count": 42,
   "metadata": {},
   "outputs": [],
   "source": [
    "#### No offpeak for the blue line\n",
    "Blue1_dataset = data[(data.stop_name.isin(Blue1)) & (data.route_name == \"Blue Line\") & (data.direction_id == 0)].drop(['ObjectId', 'mode', 'season', 'route_id', \n",
    "       'day_type_id', 'time_period_id',  'stop_id', 'total_ons', 'total_offs',\n",
    "       'number_service_days', 'average_ons', 'average_offs', ], axis=1)\n",
    "\n",
    "Blue1_dataset = Blue1_dataset.pivot(index='stop_name', values='average_flow', columns = \"time_period_name\").reset_index()"
   ]
  },
  {
   "cell_type": "code",
   "execution_count": 43,
   "metadata": {},
   "outputs": [],
   "source": [
    "Blue2_dataset = data[(data.stop_name.isin(Blue1)) & (data.route_name == \"Blue Line\") & (data.direction_id == 1)].drop(['ObjectId', 'mode', 'season', 'route_id', \n",
    "       'day_type_id', 'time_period_id',  'stop_id', 'total_ons', 'total_offs',\n",
    "       'number_service_days', 'average_ons', 'average_offs', ], axis=1)\n",
    "\n",
    "Blue2_dataset = Blue2_dataset.pivot(index='stop_name', values='average_flow', columns = \"time_period_name\").reset_index()"
   ]
  },
  {
   "cell_type": "code",
   "execution_count": 44,
   "metadata": {},
   "outputs": [
    {
     "data": {
      "text/plain": [
       "(2, 12, 10)"
      ]
     },
     "execution_count": 44,
     "metadata": {},
     "output_type": "execute_result"
    }
   ],
   "source": [
    "### AvgFlow\n",
    "np.stack((Blue1_dataset.values, Blue2_dataset.values)).shape"
   ]
  },
  {
   "cell_type": "code",
   "execution_count": 45,
   "metadata": {},
   "outputs": [],
   "source": [
    "### capacity\n",
    "c = 1200 "
   ]
  },
  {
   "cell_type": "code",
   "execution_count": 46,
   "metadata": {},
   "outputs": [],
   "source": [
    "### Cost\n",
    "C = 10000"
   ]
  },
  {
   "cell_type": "markdown",
   "metadata": {},
   "source": [
    "### Orange Line"
   ]
  },
  {
   "cell_type": "code",
   "execution_count": 47,
   "metadata": {},
   "outputs": [],
   "source": [
    "Orange1_dataset = data[(data.stop_name.isin(Orange1)) & (data.route_name == \"Orange Line\") & (data.direction_id == 0)].drop(['ObjectId', 'mode', 'season', 'route_id', \n",
    "       'day_type_id', 'time_period_id',  'stop_id', 'total_ons', 'total_offs',\n",
    "       'number_service_days', 'average_ons', 'average_offs', ], axis=1)\n",
    "\n",
    "Orange1_dataset = Orange1_dataset.pivot(index='stop_name', values='average_flow', columns = \"time_period_name\").reset_index()"
   ]
  },
  {
   "cell_type": "code",
   "execution_count": 48,
   "metadata": {},
   "outputs": [],
   "source": [
    "Orange2_dataset = data[(data.stop_name.isin(Orange1)) & (data.route_name == \"Orange Line\") & (data.direction_id == 1)].drop(['ObjectId', 'mode', 'season', 'route_id', \n",
    "       'day_type_id', 'time_period_id',  'stop_id', 'total_ons', 'total_offs',\n",
    "       'number_service_days', 'average_ons', 'average_offs', ], axis=1)\n",
    "\n",
    "Orange2_dataset = Orange2_dataset.pivot(index='stop_name', values='average_flow', columns = \"time_period_name\").reset_index()"
   ]
  },
  {
   "cell_type": "code",
   "execution_count": 49,
   "metadata": {},
   "outputs": [
    {
     "data": {
      "text/plain": [
       "(2, 20, 10)"
      ]
     },
     "execution_count": 49,
     "metadata": {},
     "output_type": "execute_result"
    }
   ],
   "source": [
    "### AvgFlow\n",
    "np.stack((Orange1_dataset.values, Orange2_dataset.values)).shape"
   ]
  },
  {
   "cell_type": "code",
   "execution_count": 50,
   "metadata": {},
   "outputs": [],
   "source": [
    "#### capacity\n",
    "c = 1000"
   ]
  },
  {
   "cell_type": "code",
   "execution_count": 51,
   "metadata": {},
   "outputs": [],
   "source": [
    "#### cost\n",
    "C = 9000"
   ]
  },
  {
   "cell_type": "markdown",
   "metadata": {},
   "source": [
    "### Red Line"
   ]
  },
  {
   "cell_type": "code",
   "execution_count": 52,
   "metadata": {},
   "outputs": [],
   "source": [
    "Red1_dataset = data[(data.route_name == \"Red Line\") & (data.direction_id == 1)].drop(['ObjectId', 'mode', 'season', 'route_id', \n",
    "       'day_type_id', 'time_period_id',  'stop_id', 'total_ons', 'total_offs',\n",
    "       'number_service_days', 'average_ons', 'average_offs', ], axis=1)\n",
    "\n",
    "Red1_dataset = Red1_dataset.pivot(index='stop_name', values='average_flow', columns = \"time_period_name\").reset_index()"
   ]
  },
  {
   "cell_type": "code",
   "execution_count": 53,
   "metadata": {},
   "outputs": [],
   "source": [
    "Red2_dataset = data[(data.route_name == \"Red Line\") & (data.direction_id == 0)].drop(['ObjectId', 'mode', 'season', 'route_id', \n",
    "       'day_type_id', 'time_period_id',  'stop_id', 'total_ons', 'total_offs',\n",
    "       'number_service_days', 'average_ons', 'average_offs', ], axis=1)\n",
    "\n",
    "Red2_dataset = Red2_dataset.pivot(index='stop_name', values='average_flow', columns = \"time_period_name\").reset_index()"
   ]
  },
  {
   "cell_type": "code",
   "execution_count": 54,
   "metadata": {},
   "outputs": [
    {
     "data": {
      "text/plain": [
       "(2, 22, 10)"
      ]
     },
     "execution_count": 54,
     "metadata": {},
     "output_type": "execute_result"
    }
   ],
   "source": [
    "np.stack((Red1_dataset.values, Red2_dataset.values)).shape"
   ]
  },
  {
   "cell_type": "code",
   "execution_count": 55,
   "metadata": {},
   "outputs": [],
   "source": [
    "### Capactiy\n",
    "c = 1200\n",
    "### Cost\n",
    "C = 10000"
   ]
  },
  {
   "cell_type": "markdown",
   "metadata": {},
   "source": [
    "### Green Line"
   ]
  },
  {
   "cell_type": "code",
   "execution_count": 56,
   "metadata": {},
   "outputs": [],
   "source": [
    "Green1_dataset = data[(data.route_name == \"Green Line\") & (data.direction_id == 1)].drop(['ObjectId', 'mode', 'season', 'route_id', \n",
    "       'day_type_id', 'time_period_id',  'stop_id', 'total_ons', 'total_offs',\n",
    "       'number_service_days', 'average_ons', 'average_offs', ], axis=1)\n",
    "\n",
    "Green1_dataset = Green1_dataset.pivot(index='stop_name', values='average_flow', columns = \"time_period_name\").reset_index()"
   ]
  },
  {
   "cell_type": "code",
   "execution_count": 57,
   "metadata": {},
   "outputs": [],
   "source": [
    "Green2_dataset = data[(data.route_name == \"Green Line\") & (data.direction_id == 0)].drop(['ObjectId', 'mode', 'season', 'route_id',\n",
    "         'day_type_id', 'time_period_id',  'stop_id', 'total_ons', 'total_offs',\n",
    "         'number_service_days', 'average_ons', 'average_offs', ], axis=1)   \n",
    "\n",
    "Green2_dataset = Green2_dataset.pivot(index='stop_name', values='average_flow', columns = \"time_period_name\").reset_index()"
   ]
  },
  {
   "cell_type": "code",
   "execution_count": 58,
   "metadata": {},
   "outputs": [
    {
     "data": {
      "text/plain": [
       "(2, 66, 10)"
      ]
     },
     "execution_count": 58,
     "metadata": {},
     "output_type": "execute_result"
    }
   ],
   "source": [
    "np.stack((Green1_dataset.values, Green2_dataset.values)).shape"
   ]
  },
  {
   "cell_type": "code",
   "execution_count": 59,
   "metadata": {},
   "outputs": [],
   "source": [
    "### Capactiy\n",
    "c = 800\n",
    "### Cost\n",
    "C = 8000"
   ]
  },
  {
   "cell_type": "markdown",
   "metadata": {},
   "source": [
    "### Saving tables"
   ]
  },
  {
   "cell_type": "code",
   "execution_count": 62,
   "metadata": {},
   "outputs": [],
   "source": [
    "Blue1_dataset.columns.name = None\n",
    "Blue2_dataset.columns.name = None\n",
    "\n",
    "Orange1_dataset.columns.name = None\n",
    "Orange2_dataset.columns.name = None\n",
    "\n",
    "Red1_dataset.columns.name = None\n",
    "Red2_dataset.columns.name = None\n",
    "\n",
    "Green1_dataset.columns.name = None\n",
    "Green2_dataset.columns.name = None"
   ]
  },
  {
   "cell_type": "code",
   "execution_count": 63,
   "metadata": {},
   "outputs": [],
   "source": [
    "Blue1_dataset.to_csv(\"Blue1_dataset.csv\", index=False)\n",
    "Blue2_dataset.to_csv(\"Blue2_dataset.csv\", index=False)\n",
    "\n",
    "Orange1_dataset.to_csv(\"Orange1_dataset.csv\", index=False)\n",
    "Orange2_dataset.to_csv(\"Orange2_dataset.csv\", index=False)\n",
    "\n",
    "Red1_dataset.to_csv(\"Red1_dataset.csv\", index=False)\n",
    "Red2_dataset.to_csv(\"Red2_dataset.csv\", index=False)\n",
    "\n",
    "Green1_dataset.to_csv(\"Green1_dataset.csv\", index=False)\n",
    "Green2_dataset.to_csv(\"Green2_dataset.csv\", index=False)"
   ]
  }
 ],
 "metadata": {
  "kernelspec": {
   "display_name": "Python 3.9.12 ('base')",
   "language": "python",
   "name": "python3"
  },
  "language_info": {
   "codemirror_mode": {
    "name": "ipython",
    "version": 3
   },
   "file_extension": ".py",
   "mimetype": "text/x-python",
   "name": "python",
   "nbconvert_exporter": "python",
   "pygments_lexer": "ipython3",
   "version": "3.9.12"
  },
  "orig_nbformat": 4,
  "vscode": {
   "interpreter": {
    "hash": "40d3a090f54c6569ab1632332b64b2c03c39dcf918b08424e98f38b5ae0af88f"
   }
  }
 },
 "nbformat": 4,
 "nbformat_minor": 2
}
