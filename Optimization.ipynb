{
 "cells": [
  {
   "cell_type": "code",
   "execution_count": 1,
   "metadata": {},
   "outputs": [],
   "source": [
    "using JuMP, Gurobi, CSV, DataFrames"
   ]
  },
  {
   "cell_type": "code",
   "execution_count": 10,
   "metadata": {},
   "outputs": [],
   "source": [
    "\"\"\"\n",
    "\"VERY_EARLY_MORNING\",\n",
    "\"EARLY_AM\",\n",
    "\"AM_PEAK\",\n",
    "\"MIDDAY_SCHOOL\",\n",
    "\"MIDDAY_BASE\",\n",
    "\"PM_PEAK\", \n",
    "\"EVENING\", \n",
    "\"LATE_EVENING\", \n",
    "\"NIGHT\"\n",
    "\"\"\";"
   ]
  },
  {
   "cell_type": "markdown",
   "metadata": {},
   "source": [
    "### Data loading"
   ]
  },
  {
   "cell_type": "code",
   "execution_count": 16,
   "metadata": {},
   "outputs": [],
   "source": [
    "Blue1 = Matrix(CSV.read(\"processed_data/Blue1_dataset.csv\", DataFrame));\n",
    "Blue2 = Matrix(CSV.read(\"processed_data/Blue2_dataset.csv\", DataFrame));\n",
    "\n",
    "Orange1 = Matrix(CSV.read(\"processed_data/Orange1_dataset.csv\", DataFrame));\n",
    "Orange2 = Matrix(CSV.read(\"processed_data/Orange2_dataset.csv\", DataFrame));\n",
    "\n",
    "Green1 = Matrix(CSV.read(\"processed_data/Green1_dataset.csv\", DataFrame));\n",
    "Green2 = Matrix(CSV.read(\"processed_data/Green2_dataset.csv\", DataFrame));\n",
    "\n",
    "Red1 = Matrix(CSV.read(\"processed_data/Red1_dataset.csv\", DataFrame));\n",
    "Red2 = Matrix(CSV.read(\"processed_data/Red2_dataset.csv\", DataFrame));"
   ]
  },
  {
   "cell_type": "code",
   "execution_count": 18,
   "metadata": {},
   "outputs": [],
   "source": [
    "AvgFlowBlue = cat(Blue1, Blue2, dims = 3);\n",
    "AvgFlowOrange = cat(Orange1, Orange2, dims = 3);\n",
    "AvgFlowGreen = cat(Green1, Green2, dims = 3);\n",
    "AvgFlowRed = cat(Red1, Red2, dims = 3);"
   ]
  },
  {
   "cell_type": "code",
   "execution_count": 20,
   "metadata": {},
   "outputs": [],
   "source": [
    "cost_blue = 10000;\n",
    "cost_orange = 9000;\n",
    "cost_green = 8000;\n",
    "cost_red = 10000;\n",
    "\n",
    "capacity_blue = 1000;\n",
    "capacity_orange = 1100;\n",
    "capacity_green = 900;\n",
    "capacity_red = 1100;\n",
    "\n",
    "q = 2.4;"
   ]
  },
  {
   "cell_type": "markdown",
   "metadata": {},
   "source": [
    "## Blue model"
   ]
  },
  {
   "cell_type": "code",
   "execution_count": 22,
   "metadata": {},
   "outputs": [],
   "source": [
    "stations_b, times, directions = size(AvgFlowBlue);"
   ]
  },
  {
   "cell_type": "code",
   "execution_count": 62,
   "metadata": {},
   "outputs": [
    {
     "name": "stdout",
     "output_type": "stream",
     "text": [
      "Set parameter Username\n",
      "Academic license - for non-commercial use only - expires 2023-10-04\n",
      "Gurobi Optimizer version 9.5.2 build v9.5.2rc0 (mac64[arm])\n",
      "Thread count: 8 physical cores, 8 logical processors, using up to 8 threads\n",
      "Optimize a model with 274 rows, 270 columns and 810 nonzeros\n",
      "Model fingerprint: 0x0f54d931\n",
      "Variable types: 216 continuous, 54 integer (0 binary)\n",
      "Coefficient statistics:\n",
      "  Matrix range     [1e+00, 1e+03]\n",
      "  Objective range  [2e+00, 1e+04]\n",
      "  Bounds range     [0e+00, 0e+00]\n",
      "  RHS range        [1e+00, 1e+04]\n",
      "Presolve removed 225 rows and 125 columns\n",
      "Presolve time: 0.00s\n",
      "Presolved: 49 rows, 145 columns, 242 nonzeros\n",
      "Variable types: 96 continuous, 49 integer (0 binary)\n",
      "\n",
      "Root relaxation: objective 6.480272e+05, 29 iterations, 0.00 seconds (0.00 work units)\n",
      "\n",
      "    Nodes    |    Current Node    |     Objective Bounds      |     Work\n",
      " Expl Unexpl |  Obj  Depth IntInf | Incumbent    BestBd   Gap | It/Node Time\n",
      "\n",
      "     0     0 648027.200    0   29          - 648027.200      -     -    0s\n",
      "H    0     0                    743165.60000 648027.200  12.8%     -    0s\n",
      "H    0     0                    683961.60000 648027.200  5.25%     -    0s\n",
      "H    0     0                    674592.00000 648027.200  3.94%     -    0s\n",
      "H    0     0                    654148.00000 648027.200  0.94%     -    0s\n",
      "H    0     0                    653677.60000 651795.382  0.29%     -    0s\n",
      "H    0     0                    652608.00000 651795.382  0.12%     -    0s\n",
      "H    0     0                    652050.40000 651897.400  0.02%     -    0s\n",
      "     0     0     cutoff    0      652050.400 652050.400  0.00%     -    0s\n",
      "\n",
      "Cutting planes:\n",
      "  Gomory: 1\n",
      "  MIR: 14\n",
      "\n",
      "Explored 1 nodes (47 simplex iterations) in 0.01 seconds (0.00 work units)\n",
      "Thread count was 8 (of 8 available processors)\n",
      "\n",
      "Solution count 7: 652050 652608 653678 ... 743166\n",
      "\n",
      "Optimal solution found (tolerance 1.00e-04)\n",
      "Best objective 6.520504000000e+05, best bound 6.520504000000e+05, gap 0.0000%\n",
      "\n",
      "User-callback calls 256, time in user-callback 0.00 sec\n"
     ]
    }
   ],
   "source": [
    "modelBlue = Model(Gurobi.Optimizer)\n",
    "\n",
    "@variable(modelBlue, x[1:directions, 1:times] >= 0, Int)\n",
    "@variable(modelBlue, u[1:directions, 1:times, 1:stations_b] >= 0)\n",
    "@variable(modelBlue, s[1:directions, 1:times] >= 0, Int)\n",
    "@variable(modelBlue, r[1:directions, 1:times], Int)\n",
    "\n",
    "@constraint(modelBlue, [d=1:directions, j=1:times, i=1:stations_b], \n",
    "    u[d,j,i] + capacity_blue * (x[d,j] + s[d,j]) >= AvgFlowBlue[i,j,d])\n",
    "\n",
    "@constraint(modelBlue,  r[2,1] ==   x[1,1] )\n",
    "@constraint(modelBlue,  r[1,1] ==  x[2,1]  ) \n",
    "@constraint(modelBlue, [j=2:times], r[2,j] ==   x[1,j] +  s[1,j]  - s[2,j] + r[2,j-1])\n",
    "@constraint(modelBlue, [j=2:times], r[1,j] ==  x[2,j] +  s[2,j] - s[1,j] + r[1,j-1])\n",
    "\n",
    "@constraint(modelBlue, [d=1:directions], s[d,1] == 0)\n",
    "@constraint(modelBlue, [d=1:directions, j=2:times], s[d,j] <= r[d,j-1])\n",
    "\n",
    "@constraint(modelBlue, [d=1:directions], r[1, times]  ==  x[1,1])\n",
    "@constraint(modelBlue, [d=1:directions], r[2, times]  ==  x[2,1])\n",
    "\n",
    "@constraint(modelBlue, [j=1:times, d=1:directions], x[d,j] + s[d,j] >= 1)\n",
    "\n",
    "@objective(modelBlue, Min, sum(sum(cost_blue * x[d,j] + 0.9 * cost_blue * s[d,j] + \n",
    "            sum(q * u[d,j,i] for i=1:stations_b) for d=1:directions) for j=1:times))\n",
    "\n",
    "optimize!(modelBlue)"
   ]
  },
  {
   "cell_type": "markdown",
   "metadata": {},
   "source": [
    "## Orange model"
   ]
  },
  {
   "cell_type": "code",
   "execution_count": 67,
   "metadata": {},
   "outputs": [],
   "source": [
    "stations_o, times, directions = size(AvgFlowOrange);"
   ]
  },
  {
   "cell_type": "code",
   "execution_count": 69,
   "metadata": {},
   "outputs": [
    {
     "name": "stdout",
     "output_type": "stream",
     "text": [
      "Set parameter Username\n",
      "Academic license - for non-commercial use only - expires 2023-10-04\n",
      "Gurobi Optimizer version 9.5.2 build v9.5.2rc0 (mac64[arm])\n",
      "Thread count: 8 physical cores, 8 logical processors, using up to 8 threads\n",
      "Optimize a model with 418 rows, 414 columns and 1242 nonzeros\n",
      "Model fingerprint: 0xc122e25f\n",
      "Variable types: 360 continuous, 54 integer (0 binary)\n",
      "Coefficient statistics:\n",
      "  Matrix range     [1e+00, 1e+03]\n",
      "  Objective range  [2e+00, 9e+03]\n",
      "  Bounds range     [0e+00, 0e+00]\n",
      "  RHS range        [1e+00, 1e+04]\n",
      "Presolve removed 370 rows and 155 columns\n",
      "Presolve time: 0.00s\n",
      "Presolved: 48 rows, 259 columns, 355 nonzeros\n",
      "Variable types: 211 continuous, 48 integer (0 binary)\n",
      "\n",
      "Root relaxation: objective 9.404336e+05, 23 iterations, 0.00 seconds (0.00 work units)\n",
      "\n",
      "    Nodes    |    Current Node    |     Objective Bounds      |     Work\n",
      " Expl Unexpl |  Obj  Depth IntInf | Incumbent    BestBd   Gap | It/Node Time\n",
      "\n",
      "     0     0 940433.564    0   29          - 940433.564      -     -    0s\n",
      "H    0     0                    2162959.2000 940433.564  56.5%     -    0s\n",
      "H    0     0                    965104.80000 940433.564  2.56%     -    0s\n",
      "H    0     0                    951897.60000 940433.564  1.20%     -    0s\n",
      "H    0     0                    951770.40000 940433.564  1.19%     -    0s\n",
      "H    0     0                    950222.40000 942438.655  0.82%     -    0s\n",
      "H    0     0                    949454.40000 945646.562  0.40%     -    0s\n",
      "     0     0 945646.562    0   22 949454.400 945646.562  0.40%     -    0s\n",
      "H    0     0                    947582.40000 945646.562  0.20%     -    0s\n",
      "\n",
      "Cutting planes:\n",
      "  Gomory: 3\n",
      "  MIR: 20\n",
      "\n",
      "Explored 1 nodes (38 simplex iterations) in 0.02 seconds (0.00 work units)\n",
      "Thread count was 8 (of 8 available processors)\n",
      "\n",
      "Solution count 7: 947582 949454 950222 ... 2.16296e+06\n",
      "\n",
      "Optimal solution found (tolerance 1.00e-04)\n",
      "Best objective 9.475824000000e+05, best bound 9.475442962963e+05, gap 0.0040%\n",
      "\n",
      "User-callback calls 260, time in user-callback 0.00 sec\n"
     ]
    }
   ],
   "source": [
    "modelOrange = Model(Gurobi.Optimizer)\n",
    "\n",
    "@variable(modelOrange, x[1:directions, 1:times] >= 0, Int)\n",
    "@variable(modelOrange, u[1:directions, 1:times, 1:stations_o] >= 0)\n",
    "@variable(modelOrange, s[1:directions, 1:times] >= 0, Int)\n",
    "@variable(modelOrange, r[1:directions, 1:times], Int)\n",
    "\n",
    "@constraint(modelOrange, [d=1:directions, j=1:times, i=1:stations_o], \n",
    "    u[d,j,i] + capacity_orange * (x[d,j] + s[d,j]) >= AvgFlowOrange[i,j,d])\n",
    "\n",
    "@constraint(modelOrange,  r[2,1] ==   x[1,1] )\n",
    "@constraint(modelOrange,  r[1,1] ==  x[2,1]  ) \n",
    "@constraint(modelOrange, [j=2:times], r[2,j] ==   x[1,j] +  s[1,j]  - s[2,j] + r[2,j-1])\n",
    "@constraint(modelOrange, [j=2:times], r[1,j] ==  x[2,j] +  s[2,j] - s[1,j] + r[1,j-1])\n",
    "\n",
    "@constraint(modelOrange, [d=1:directions], s[d,1] == 0)\n",
    "@constraint(modelOrange, [d=1:directions, j=2:times], s[d,j] <= r[d,j-1])\n",
    "\n",
    "@constraint(modelOrange, [d=1:directions], r[1, times]  ==  x[1,1])\n",
    "@constraint(modelOrange, [d=1:directions], r[2, times]  ==  x[2,1])\n",
    "\n",
    "@constraint(modelOrange, [j=1:times, d=1:directions], x[d,j] + s[d,j] >= 1)\n",
    "\n",
    "@objective(modelOrange, Min, sum(sum(cost_orange * x[d,j] + 0.9 * cost_orange * s[d,j] + \n",
    "            sum(q * u[d,j,i] for i=1:stations_o) for d=1:directions) for j=1:times))\n",
    "\n",
    "optimize!(modelOrange)"
   ]
  },
  {
   "cell_type": "markdown",
   "metadata": {},
   "source": [
    "## Red model"
   ]
  },
  {
   "cell_type": "code",
   "execution_count": 73,
   "metadata": {},
   "outputs": [],
   "source": [
    "stations_r, times, directions = size(AvgFlowRed);\n",
    "lines = 2;"
   ]
  },
  {
   "cell_type": "code",
   "execution_count": 74,
   "metadata": {},
   "outputs": [],
   "source": [
    "Red1 = [\"Alewife\", \"Davis\", \"Porter\", \"Harvard\", \"Central\", \"Kendall/MIT\", \"Charles/MGH\",\n",
    "     \"Park Street\", \"Downtown Crossing\", \"South Station\", \"Broadway\", \"Andrew\", \"JFK/Umass\",\n",
    "      \"Savin Hill\", \"Fields Corner\", \"Shawmut\", \"Ashmont\"];\n",
    "\n",
    "Red2 = [\"Alewife\", \"Davis\", \"Porter\", \"Harvard\", \"Central\", \"Kendall/MIT\", \"Charles/MGH\",\n",
    "     \"Park Street\", \"Downtown Crossing\", \"South Station\", \"Broadway\", \"Andrew\", \"JFK/Umass\",\n",
    "      \"North Quincy\", \"Wollaston\", \"Quincy Center\", \"Quincy Adams\", \"Braintree\"];"
   ]
  },
  {
   "cell_type": "code",
   "execution_count": 75,
   "metadata": {},
   "outputs": [],
   "source": [
    "z_red = zeros((2,22));\n",
    "\n",
    "for i = 1:22\n",
    "    if red_stations[i] in Red1\n",
    "        z_red[1,i] = 1\n",
    "    end\n",
    "    if red_stations[i] in Red2\n",
    "        z_red[2,i] = 1\n",
    "    end\n",
    "end"
   ]
  },
  {
   "cell_type": "code",
   "execution_count": 79,
   "metadata": {},
   "outputs": [
    {
     "name": "stdout",
     "output_type": "stream",
     "text": [
      "Set parameter Username\n",
      "Academic license - for non-commercial use only - expires 2023-10-04\n",
      "Gurobi Optimizer version 9.5.2 build v9.5.2rc0 (mac64[arm])\n",
      "Thread count: 8 physical cores, 8 logical processors, using up to 8 threads\n",
      "Optimize a model with 512 rows, 1224 columns and 720 nonzeros\n",
      "Model fingerprint: 0x1e028d29\n",
      "Variable types: 432 continuous, 792 integer (0 binary)\n",
      "Coefficient statistics:\n",
      "  Matrix range     [1e+00, 1e+00]\n",
      "  Objective range  [2e+00, 1e+04]\n",
      "  Bounds range     [0e+00, 0e+00]\n",
      "  RHS range        [1e+00, 2e+04]\n",
      "Presolve removed 464 rows and 1176 columns\n",
      "Presolve time: 0.00s\n",
      "Presolved: 48 rows, 48 columns, 144 nonzeros\n",
      "Variable types: 0 continuous, 48 integer (0 binary)\n",
      "\n",
      "Root relaxation: objective 3.294282e+06, 19 iterations, 0.00 seconds (0.00 work units)\n",
      "\n",
      "    Nodes    |    Current Node    |     Objective Bounds      |     Work\n",
      " Expl Unexpl |  Obj  Depth IntInf | Incumbent    BestBd   Gap | It/Node Time\n",
      "\n",
      "*    0     0               0    3294282.4000 3294282.40  0.00%     -    0s\n",
      "\n",
      "Explored 1 nodes (19 simplex iterations) in 0.00 seconds (0.00 work units)\n",
      "Thread count was 8 (of 8 available processors)\n",
      "\n",
      "Solution count 1: 3.29428e+06 \n",
      "\n",
      "Optimal solution found (tolerance 1.00e-04)\n",
      "Best objective 3.294282400000e+06, best bound 3.294282400000e+06, gap 0.0000%\n",
      "\n",
      "User-callback calls 141, time in user-callback 0.00 sec\n"
     ]
    }
   ],
   "source": [
    "modelRed = Model(Gurobi.Optimizer)\n",
    "\n",
    "@variable(modelRed, x[1:directions, 1:times, 1:lines] >= 0)\n",
    "@variable(modelRed, u[1:directions, 1:times, 1:stations_r] >= 0)\n",
    "@variable(modelRed, s[1:directions, 1:times, 1:stations_r] >= 0, Int)\n",
    "@variable(modelRed, r[1:directions, 1:times, 1:stations_r], Int)\n",
    "\n",
    "@constraint(modelRed, [d=1:directions, j=1:times, i=1:stations_r], \n",
    "    u[d,j,i] + (sum(capacity_red * (x[d,j,l] + s[d,j,l]) * z_red[l,i] for l=1:lines)) >= AvgFlowRed[i,j,d])\n",
    "\n",
    "@constraint(modelRed, [l=1:lines], r[2,1,l] ==   x[1,1,l] )\n",
    "@constraint(modelRed, [l=1:lines], r[1,1,l] ==  x[2,1,l]  ) \n",
    "@constraint(modelRed, [j=2:times, l=1:lines], r[2,j,l] ==   x[1,j,l] +  s[1,j,l]  - s[2,j,l] + r[2,j-1,l])\n",
    "@constraint(modelRed, [j=2:times, l=1:lines], r[1,j,l] ==  x[2,j,l] +  s[2,j,l] - s[1,j,l] + r[1,j-1,l])\n",
    "\n",
    "@constraint(modelRed, [d=1:directions, l=1:lines], s[d,1,l] == 0)\n",
    "@constraint(modelRed, [d=1:directions, j=2:times, l=1:lines], s[d,j,l] <= r[d,j-1,l])\n",
    "\n",
    "@constraint(modelRed, [d=1:directions, l=1:lines], r[1, times, l]  ==  x[1,1,l])\n",
    "@constraint(modelRed, [d=1:directions, l=1:lines], r[2, times, l]  ==  x[2,1,l])\n",
    "\n",
    "@constraint(modelRed, [j=1:times, d=1:directions, l=1:lines], x[d,j,l] + s[d,j,l] >= 1)\n",
    "\n",
    "@objective(modelRed, Min, sum( sum(cost_red * x[d,j,l] + 0.9 * cost_red * s[d,j,l] for l=1:lines ) + \n",
    "                sum(q * u[d,j,i] for i=1:stations_r) for d=1:directions,  j=1:times))\n",
    "\n",
    "optimize!(modelRed)"
   ]
  },
  {
   "cell_type": "markdown",
   "metadata": {},
   "source": [
    "### Green line"
   ]
  },
  {
   "cell_type": "code",
   "execution_count": 84,
   "metadata": {},
   "outputs": [],
   "source": [
    "stations_g, times, directions = size(AvgFlowGreen);\n",
    "lines = 4;"
   ]
  },
  {
   "cell_type": "code",
   "execution_count": 85,
   "metadata": {},
   "outputs": [],
   "source": [
    "Green1 = [\"Lechmere\", \"Science Park\", \"North Station\", \"Haymarket\", \"Government Center\", \"Park Street\", \"Boylston\",\n",
    " \"Arlington\", \"Copley\", \"Hynes Convention Center\", \"Kenmore\", \"Blandford Street\", \"Boston Univ. East\", \n",
    " \"Boston Univ. Central\", \"Boston Univ. West\", \"Saint Paul Street\", \"Pleasant Street\", \"Babcock Street\",\n",
    " \"Harvard Ave.\",\"Griggs Street\", \"Allston Street\", \"Warren Street\", \"Washington Street\", \"Sutherland Road\",\n",
    "\"Chiswick Road\", \"Chestnut Hill Ave.\", \"South Street\"];\n",
    "\n",
    "Green2 = [\"Government Center\", \"Park Street\", \"Boylston\", \"Arlington\", \"Copley\", \"Hynes Convention Center\", \"Kenmore\", \n",
    "\"Saint Mary Street\", \"Hawes Street\", \"Kent Street\", \"Saint Paul Street\", \"Coolidge Corner\", \"Summit Ave.\", \n",
    "\"Brandon Hall\", \"Fairbanks Street\", \"Washington Square\", \"Tappan Street\", \"Dean Road\", \"Englewood Ave.\", \"Cleveland Circle\"];\n",
    "\n",
    "Green3 = [\"Lechmere\", \"Science Park\", \"North Station\", \"Haymarket\", \"Government Center\", \"Park Street\", \"Boylston\", \n",
    "\"Arlington\", \"Copley\", \"Hynes Convention Center\", \"Kenmore\", \"Fenway\", \"Longwood\", \"Brookline Village\", \"Brookline Hills\",\n",
    "\"Beaconsfield\", \"Reservoir\", \"Chestnut Hill Ave.\", \"Newton Centre\", \"Newton Highlands\", \"Eliot\", \"Waban\", \"Woodland\", \n",
    "\"Riverside\"];\n",
    "\n",
    "Green4 = [\"Lechmere\", \"Science Park\", \"North Station\", \"Haymarket\", \"Government Center\", \"Park Street\", \"Boylston\",\n",
    "    \"Arlington\", \"Copley\", \"Prudential\", \"Symphony\", \"Northeastern University\", \"Museum of Fine Arts\", \"Longwood\",\n",
    "    \"Brigham Circle\", \"Fenwood Road\", \"Mission Park\", \"Riverway\", \"Back of the Hill\", \"Heath Street\"];\n"
   ]
  },
  {
   "cell_type": "code",
   "execution_count": 86,
   "metadata": {},
   "outputs": [],
   "source": [
    "z_green = zeros((4,66));\n",
    "\n",
    "for i = 1:66\n",
    "    if green_stations[i] in Green1\n",
    "        z_green[1,i] = 1\n",
    "    end\n",
    "    if green_stations[i] in Green2\n",
    "        z_green[2,i] = 1\n",
    "    end\n",
    "    if green_stations[i] in Green3 \n",
    "        z_green[3,i] = 1\n",
    "    end\n",
    "    if green_stations[i] in Green4 \n",
    "        z_green[4,i] = 1\n",
    "    end\n",
    "end"
   ]
  },
  {
   "cell_type": "code",
   "execution_count": 88,
   "metadata": {},
   "outputs": [
    {
     "name": "stdout",
     "output_type": "stream",
     "text": [
      "Set parameter Username\n",
      "Academic license - for non-commercial use only - expires 2023-10-04\n",
      "Gurobi Optimizer version 9.5.2 build v9.5.2rc0 (mac64[arm])\n",
      "Thread count: 8 physical cores, 8 logical processors, using up to 8 threads\n",
      "Optimize a model with 1420 rows, 3636 columns and 1836 nonzeros\n",
      "Model fingerprint: 0x8ffabb2d\n",
      "Variable types: 1260 continuous, 2376 integer (0 binary)\n",
      "Coefficient statistics:\n",
      "  Matrix range     [1e+00, 1e+00]\n",
      "  Objective range  [2e+00, 8e+03]\n",
      "  Bounds range     [0e+00, 0e+00]\n",
      "  RHS range        [1e+00, 1e+04]\n",
      "Presolve removed 1372 rows and 3588 columns\n",
      "Presolve time: 0.00s\n",
      "Presolved: 48 rows, 48 columns, 144 nonzeros\n",
      "Variable types: 0 continuous, 48 integer (0 binary)\n",
      "\n",
      "Root relaxation: objective 2.159008e+06, 19 iterations, 0.00 seconds (0.00 work units)\n",
      "\n",
      "    Nodes    |    Current Node    |     Objective Bounds      |     Work\n",
      " Expl Unexpl |  Obj  Depth IntInf | Incumbent    BestBd   Gap | It/Node Time\n",
      "\n",
      "*    0     0               0    2159008.0000 2159008.00  0.00%     -    0s\n",
      "\n",
      "Explored 1 nodes (19 simplex iterations) in 0.00 seconds (0.00 work units)\n",
      "Thread count was 8 (of 8 available processors)\n",
      "\n",
      "Solution count 1: 2.15901e+06 \n",
      "\n",
      "Optimal solution found (tolerance 1.00e-04)\n",
      "Best objective 2.159008000000e+06, best bound 2.159008000000e+06, gap 0.0000%\n",
      "\n",
      "User-callback calls 141, time in user-callback 0.00 sec\n"
     ]
    }
   ],
   "source": [
    "modelGreen = Model(Gurobi.Optimizer)\n",
    "\n",
    "@variable(modelGreen, x[1:directions, 1:times, 1:lines] >= 0)\n",
    "@variable(modelGreen, u[1:directions, 1:times, 1:stations_g] >= 0)\n",
    "@variable(modelGreen, s[1:directions, 1:times, 1:stations_g] >= 0, Int)\n",
    "@variable(modelGreen, r[1:directions, 1:times, 1:stations_g], Int)\n",
    "\n",
    "@constraint(modelGreen, [d=1:directions, j=1:times, i=1:stations_g], \n",
    "    u[d,j,i] + (sum(capacity_green * (x[d,j,l] + s[d,j,l]) * z_green[l,i] for l=1:lines)) >= AvgFlowGreen[i,j,d])\n",
    "\n",
    "@constraint(modelGreen, [l=1:lines], r[2,1,l] ==   x[1,1,l] )\n",
    "@constraint(modelGreen, [l=1:lines], r[1,1,l] ==  x[2,1,l]  ) \n",
    "@constraint(modelGreen, [j=2:times, l=1:lines], r[2,j,l] ==   x[1,j,l] +  s[1,j,l]  - s[2,j,l] + r[2,j-1,l])\n",
    "@constraint(modelGreen, [j=2:times, l=1:lines], r[1,j,l] ==  x[2,j,l] +  s[2,j,l] - s[1,j,l] + r[1,j-1,l])\n",
    "\n",
    "@constraint(modelGreen, [d=1:directions, l=1:lines], s[d,1,l] == 0)\n",
    "@constraint(modelGreen, [d=1:directions, j=2:times, l=1:lines], s[d,j,l] <= r[d,j-1,l])\n",
    "\n",
    "@constraint(modelGreen, [d=1:directions, l=1:lines], r[1, times, l]  ==  x[1,1,l])\n",
    "@constraint(modelGreen, [d=1:directions, l=1:lines], r[2, times, l]  ==  x[2,1,l])\n",
    "\n",
    "@constraint(modelGreen, [j=1:times, d=1:directions, l=1:lines], x[d,j,l] + s[d,j,l] >= 1)\n",
    "\n",
    "@objective(modelGreen, Min, sum( sum(cost_green * x[d,j,l] + 0.9 * cost_green * s[d,j,l] for l=1:lines ) + \n",
    "                sum(q * u[d,j,i] for i=1:stations_g) for d=1:directions,  j=1:times))\n",
    "\n",
    "optimize!(modelGreen)"
   ]
  },
  {
   "cell_type": "markdown",
   "metadata": {},
   "source": [
    "## Robust Version"
   ]
  },
  {
   "cell_type": "markdown",
   "metadata": {},
   "source": []
  }
 ],
 "metadata": {
  "kernelspec": {
   "display_name": "Julia 1.8.2",
   "language": "julia",
   "name": "julia-1.8"
  },
  "language_info": {
   "file_extension": ".jl",
   "mimetype": "application/julia",
   "name": "julia",
   "version": "1.8.2"
  },
  "orig_nbformat": 4
 },
 "nbformat": 4,
 "nbformat_minor": 2
}
