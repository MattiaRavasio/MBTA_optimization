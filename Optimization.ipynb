{
 "cells": [
  {
   "cell_type": "code",
   "execution_count": 32,
   "metadata": {},
   "outputs": [],
   "source": [
    "using JuMP, Gurobi, CSV, DataFrames"
   ]
  },
  {
   "cell_type": "markdown",
   "metadata": {},
   "source": [
    "### Data loading"
   ]
  },
  {
   "cell_type": "code",
   "execution_count": 33,
   "metadata": {},
   "outputs": [],
   "source": [
    "Blue1 = Matrix(CSV.read(\"processed_data/Blue1_dataset.csv\", DataFrame))[:,2:end];\n",
    "Blue2 = Matrix(CSV.read(\"processed_data/Blue2_dataset.csv\", DataFrame))[:,2:end];\n",
    "\n",
    "Orange1 = Matrix(CSV.read(\"processed_data/Orange1_dataset.csv\", DataFrame))[:,2:end];\n",
    "Orange2 = Matrix(CSV.read(\"processed_data/Orange2_dataset.csv\", DataFrame))[:,2:end];\n",
    "\n",
    "Green1 = Matrix(CSV.read(\"processed_data/Green1_dataset.csv\", DataFrame))[:,2:end];\n",
    "Green2 = Matrix(CSV.read(\"processed_data/Green2_dataset.csv\", DataFrame))[:,2:end];\n",
    "\n",
    "Red1 = Matrix(CSV.read(\"processed_data/Red1_dataset.csv\", DataFrame))[:,2:end];\n",
    "Red2 = Matrix(CSV.read(\"processed_data/Red2_dataset.csv\", DataFrame))[:,2:end];"
   ]
  },
  {
   "cell_type": "code",
   "execution_count": 34,
   "metadata": {},
   "outputs": [],
   "source": [
    "AvgFlowBlue = cat(Blue1, Blue2, dims = 3);\n",
    "AvgFlowOrange = cat(Orange1, Orange2, dims = 3);\n",
    "AvgFlowGreen = cat(Green1, Green2, dims = 3);\n",
    "AvgFlowRed = cat(Red1, Red2, dims = 3);"
   ]
  },
  {
   "cell_type": "code",
   "execution_count": 57,
   "metadata": {},
   "outputs": [],
   "source": [
    "cost_blue = 10000;\n",
    "cost_orange = 9000;\n",
    "cost_green = 8000;\n",
    "cost_red = 10000;\n",
    "\n",
    "capacity_blue = 1000;\n",
    "capacity_orange = 1100;\n",
    "capacity_green = 900;\n",
    "capacity_red = 1100;\n",
    "\n",
    "q = 2.4;"
   ]
  },
  {
   "cell_type": "markdown",
   "metadata": {},
   "source": [
    "## Blue model"
   ]
  },
  {
   "cell_type": "code",
   "execution_count": 58,
   "metadata": {},
   "outputs": [],
   "source": [
    "stations_b, times, directions = size(AvgFlowBlue);"
   ]
  },
  {
   "cell_type": "code",
   "execution_count": 59,
   "metadata": {},
   "outputs": [
    {
     "name": "stdout",
     "output_type": "stream",
     "text": [
      "Set parameter Username\n",
      "Academic license - for non-commercial use only - expires 2023-10-04\n",
      "Gurobi Optimizer version 9.5.2 build v9.5.2rc0 (mac64[arm])\n",
      "Thread count: 8 physical cores, 8 logical processors, using up to 8 threads\n",
      "Optimize a model with 216 rows, 234 columns and 432 nonzeros\n",
      "Model fingerprint: 0x60fdc5c7\n",
      "Coefficient statistics:\n",
      "  Matrix range     [1e+00, 1e+03]\n",
      "  Objective range  [2e+00, 1e+04]\n",
      "  Bounds range     [0e+00, 0e+00]\n",
      "  RHS range        [2e+00, 1e+04]\n",
      "Presolve removed 18 rows and 18 columns\n",
      "Presolve time: 0.00s\n",
      "Presolved: 198 rows, 216 columns, 396 nonzeros\n",
      "\n",
      "Iteration    Objective       Primal Inf.    Dual Inf.      Time\n",
      "       0    0.0000000e+00   1.170884e+04   0.000000e+00      0s\n",
      "      90    5.3523600e+05   0.000000e+00   0.000000e+00      0s\n",
      "\n",
      "Solved in 90 iterations and 0.00 seconds (0.00 work units)\n",
      "Optimal objective  5.352360000e+05\n",
      "\n",
      "User-callback calls 131, time in user-callback 0.00 sec\n"
     ]
    }
   ],
   "source": [
    "modelBlue = Model(Gurobi.Optimizer)\n",
    "\n",
    "@variable(modelBlue, x[1:directions, 1:times] >= 0)\n",
    "@variable(modelBlue, u[1:directions, 1:times, 1:stations_b] >= 0)\n",
    "\n",
    "@constraint(modelBlue, [d=1:directions, j=1:times, i=1:stations_b], \n",
    "    u[d,j,i] + capacity_blue * x[d,j] >= AvgFlowBlue[i,j,d])\n",
    "\n",
    "@objective(modelBlue, Min, sum(sum(cost_blue * x[d,j] + \n",
    "            sum(q * u[d,j,i] for i=1:stations_b) for d=1:directions) for j=1:times))\n",
    "\n",
    "optimize!(modelBlue)"
   ]
  },
  {
   "cell_type": "markdown",
   "metadata": {},
   "source": [
    "## Orange model"
   ]
  },
  {
   "cell_type": "code",
   "execution_count": 62,
   "metadata": {},
   "outputs": [],
   "source": [
    "stations_o, times, directions = size(AvgFlowOrange);"
   ]
  },
  {
   "cell_type": "code",
   "execution_count": 63,
   "metadata": {},
   "outputs": [
    {
     "name": "stdout",
     "output_type": "stream",
     "text": [
      "Set parameter Username\n",
      "Academic license - for non-commercial use only - expires 2023-10-04\n",
      "Gurobi Optimizer version 9.5.2 build v9.5.2rc0 (mac64[arm])\n",
      "Thread count: 8 physical cores, 8 logical processors, using up to 8 threads\n",
      "Optimize a model with 360 rows, 378 columns and 720 nonzeros\n",
      "Model fingerprint: 0xae1c1785\n",
      "Coefficient statistics:\n",
      "  Matrix range     [1e+00, 1e+03]\n",
      "  Objective range  [2e+00, 9e+03]\n",
      "  Bounds range     [0e+00, 0e+00]\n",
      "  RHS range        [1e+00, 1e+04]\n",
      "Presolve removed 18 rows and 18 columns\n",
      "Presolve time: 0.00s\n",
      "Presolved: 342 rows, 360 columns, 684 nonzeros\n",
      "\n",
      "Iteration    Objective       Primal Inf.    Dual Inf.      Time\n",
      "       0    0.0000000e+00   3.506750e+04   0.000000e+00      0s\n",
      "      72    8.0325109e+05   0.000000e+00   0.000000e+00      0s\n",
      "\n",
      "Solved in 72 iterations and 0.00 seconds (0.00 work units)\n",
      "Optimal objective  8.032510909e+05\n",
      "\n",
      "User-callback calls 113, time in user-callback 0.00 sec\n"
     ]
    }
   ],
   "source": [
    "modelOrange = Model(Gurobi.Optimizer)\n",
    "\n",
    "@variable(modelOrange, x[1:directions, 1:times] >= 0)\n",
    "@variable(modelOrange, u[1:directions, 1:times, 1:stations_o] >= 0)\n",
    "\n",
    "@constraint(modelOrange, [d=1:directions, j=1:times, i=1:stations_o], \n",
    "    u[d,j,i] + capacity_orange * x[d,j] >= AvgFlowOrange[i,j,d])\n",
    "\n",
    "@objective(modelOrange, Min, sum(sum(cost_orange * x[d,j] + \n",
    "            sum(q * u[d,j,i] for i=1:stations_o) for d=1:directions) for j=1:times))\n",
    "\n",
    "optimize!(modelOrange)"
   ]
  },
  {
   "cell_type": "markdown",
   "metadata": {},
   "source": [
    "## Red model"
   ]
  },
  {
   "cell_type": "code",
   "execution_count": 88,
   "metadata": {},
   "outputs": [],
   "source": [
    "stations_r, times, directions = size(AvgFlowRed);\n",
    "lines = 2;"
   ]
  },
  {
   "cell_type": "code",
   "execution_count": 89,
   "metadata": {},
   "outputs": [],
   "source": [
    "red_stations = Matrix(CSV.read(\"processed_data/Red1_dataset.csv\", DataFrame))[:,1];\n",
    "\n",
    "Red1 = [\"Alewife\", \"Davis\", \"Porter\", \"Harvard\", \"Central\", \"Kendall/MIT\", \"Charles/MGH\",\n",
    "     \"Park Street\", \"Downtown Crossing\", \"South Station\", \"Broadway\", \"Andrew\", \"JFK/Umass\",\n",
    "      \"Savin Hill\", \"Fields Corner\", \"Shawmut\", \"Ashmont\"];\n",
    "\n",
    "Red2 = [\"Alewife\", \"Davis\", \"Porter\", \"Harvard\", \"Central\", \"Kendall/MIT\", \"Charles/MGH\",\n",
    "     \"Park Street\", \"Downtown Crossing\", \"South Station\", \"Broadway\", \"Andrew\", \"JFK/Umass\",\n",
    "      \"North Quincy\", \"Wollaston\", \"Quincy Center\", \"Quincy Adams\", \"Braintree\"];"
   ]
  },
  {
   "cell_type": "code",
   "execution_count": 90,
   "metadata": {},
   "outputs": [],
   "source": [
    "z_red = zeros((2,22));\n",
    "\n",
    "for i = 1:22\n",
    "    if red_stations[i] in Red1\n",
    "        z_red[1,i] = 1\n",
    "    end\n",
    "    if red_stations[i] in Red2\n",
    "        z_red[2,i] = 1\n",
    "    end\n",
    "end"
   ]
  },
  {
   "cell_type": "code",
   "execution_count": 95,
   "metadata": {},
   "outputs": [
    {
     "name": "stdout",
     "output_type": "stream",
     "text": [
      "Set parameter Username\n",
      "Academic license - for non-commercial use only - expires 2023-10-04\n",
      "Gurobi Optimizer version 9.5.2 build v9.5.2rc0 (mac64[arm])\n",
      "Thread count: 8 physical cores, 8 logical processors, using up to 8 threads\n",
      "Optimize a model with 396 rows, 432 columns and 1026 nonzeros\n",
      "Model fingerprint: 0xddbf7f99\n",
      "Coefficient statistics:\n",
      "  Matrix range     [1e+00, 1e+03]\n",
      "  Objective range  [2e+00, 1e+04]\n",
      "  Bounds range     [0e+00, 0e+00]\n",
      "  RHS range        [1e+00, 2e+04]\n",
      "Presolve removed 28 rows and 28 columns\n",
      "Presolve time: 0.00s\n",
      "Presolved: 368 rows, 404 columns, 961 nonzeros\n",
      "\n",
      "Iteration    Objective       Primal Inf.    Dual Inf.      Time\n",
      "       0    0.0000000e+00   3.862347e+04   0.000000e+00      0s\n",
      "      93    1.1677925e+06   0.000000e+00   0.000000e+00      0s\n",
      "\n",
      "Solved in 93 iterations and 0.00 seconds (0.00 work units)\n",
      "Optimal objective  1.167792509e+06\n",
      "\n",
      "User-callback calls 134, time in user-callback 0.00 sec\n"
     ]
    }
   ],
   "source": [
    "modelRed = Model(Gurobi.Optimizer)\n",
    "\n",
    "@variable(modelRed, x[1:directions, 1:times, 1:lines] >= 0)\n",
    "@variable(modelRed, u[1:directions, 1:times, 1:stations_r] >= 0)\n",
    "\n",
    "@constraint(modelRed, [d=1:directions, j=1:times, i=1:stations_r], \n",
    "    u[d,j,i] + (sum(capacity_red * x[d,j,l] * z_red[l,i] for l=1:lines)) >= AvgFlowRed[i,j,d])\n",
    "\n",
    "@objective(modelRed, Min, sum( sum(cost_red * x[d,j,l] for l=1:lines ) + \n",
    "                sum(q * u[d,j,i] for i=1:stations_r) for d=1:directions,  j=1:times))\n",
    "\n",
    "optimize!(modelRed)"
   ]
  },
  {
   "cell_type": "markdown",
   "metadata": {},
   "source": [
    "### Green line"
   ]
  },
  {
   "cell_type": "code",
   "execution_count": 114,
   "metadata": {},
   "outputs": [],
   "source": [
    "stations_g, times, directions = size(AvgFlowGreen);\n",
    "lines = 4;"
   ]
  },
  {
   "cell_type": "code",
   "execution_count": 115,
   "metadata": {},
   "outputs": [],
   "source": [
    "green_stations = Matrix(CSV.read(\"processed_data/Green1_dataset.csv\", DataFrame))[:,1];\n",
    "\n",
    "Green1 = [\"Lechmere\", \"Science Park\", \"North Station\", \"Haymarket\", \"Government Center\", \"Park Street\", \"Boylston\",\n",
    " \"Arlington\", \"Copley\", \"Hynes Convention Center\", \"Kenmore\", \"Blandford Street\", \"Boston Univ. East\", \n",
    " \"Boston Univ. Central\", \"Boston Univ. West\", \"Saint Paul Street\", \"Pleasant Street\", \"Babcock Street\",\n",
    " \"Harvard Ave.\",\"Griggs Street\", \"Allston Street\", \"Warren Street\", \"Washington Street\", \"Sutherland Road\",\n",
    "\"Chiswick Road\", \"Chestnut Hill Ave.\", \"South Street\"];\n",
    "\n",
    "Green2 = [\"Government Center\", \"Park Street\", \"Boylston\", \"Arlington\", \"Copley\", \"Hynes Convention Center\", \"Kenmore\", \n",
    "\"Saint Mary Street\", \"Hawes Street\", \"Kent Street\", \"Saint Paul Street\", \"Coolidge Corner\", \"Summit Ave.\", \n",
    "\"Brandon Hall\", \"Fairbanks Street\", \"Washington Square\", \"Tappan Street\", \"Dean Road\", \"Englewood Ave.\", \"Cleveland Circle\"];\n",
    "\n",
    "Green3 = [\"Lechmere\", \"Science Park\", \"North Station\", \"Haymarket\", \"Government Center\", \"Park Street\", \"Boylston\", \n",
    "\"Arlington\", \"Copley\", \"Hynes Convention Center\", \"Kenmore\", \"Fenway\", \"Longwood\", \"Brookline Village\", \"Brookline Hills\",\n",
    "\"Beaconsfield\", \"Reservoir\", \"Chestnut Hill Ave.\", \"Newton Centre\", \"Newton Highlands\", \"Eliot\", \"Waban\", \"Woodland\", \n",
    "\"Riverside\"];\n",
    "\n",
    "Green4 = [\"Lechmere\", \"Science Park\", \"North Station\", \"Haymarket\", \"Government Center\", \"Park Street\", \"Boylston\",\n",
    "    \"Arlington\", \"Copley\", \"Prudential\", \"Symphony\", \"Northeastern University\", \"Museum of Fine Arts\", \"Longwood\",\n",
    "    \"Brigham Circle\", \"Fenwood Road\", \"Mission Park\", \"Riverway\", \"Back of the Hill\", \"Heath Street\"];\n"
   ]
  },
  {
   "cell_type": "code",
   "execution_count": 116,
   "metadata": {},
   "outputs": [],
   "source": [
    "z_green = zeros((4,66));\n",
    "\n",
    "for i = 1:66\n",
    "    if green_stations[i] in Green1\n",
    "        z_green[1,i] = 1\n",
    "    end\n",
    "    if green_stations[i] in Green2\n",
    "        z_green[2,i] = 1\n",
    "    end\n",
    "    if green_stations[i] in Green3 \n",
    "        z_green[3,i] = 1\n",
    "    end\n",
    "    if green_stations[i] in Green4 \n",
    "        z_green[4,i] = 1\n",
    "    end\n",
    "end"
   ]
  },
  {
   "cell_type": "code",
   "execution_count": 117,
   "metadata": {},
   "outputs": [
    {
     "name": "stdout",
     "output_type": "stream",
     "text": [
      "Set parameter Username\n",
      "Academic license - for non-commercial use only - expires 2023-10-04\n",
      "Gurobi Optimizer version 9.5.2 build v9.5.2rc0 (mac64[arm])\n",
      "Thread count: 8 physical cores, 8 logical processors, using up to 8 threads\n",
      "Optimize a model with 1188 rows, 1260 columns and 1548 nonzeros\n",
      "Model fingerprint: 0xb3e5103e\n",
      "Coefficient statistics:\n",
      "  Matrix range     [1e+00, 9e+02]\n",
      "  Objective range  [2e+00, 8e+03]\n",
      "  Bounds range     [0e+00, 0e+00]\n",
      "  RHS range        [1e+00, 1e+04]\n",
      "Presolve removed 930 rows and 966 columns\n",
      "Presolve time: 0.00s\n",
      "Presolved: 258 rows, 294 columns, 570 nonzeros\n",
      "\n",
      "Iteration    Objective       Primal Inf.    Dual Inf.      Time\n",
      "       0    1.0166232e+06   8.041469e+03   0.000000e+00      0s\n",
      "      90    1.5118911e+06   0.000000e+00   0.000000e+00      0s\n",
      "\n",
      "Solved in 90 iterations and 0.00 seconds (0.00 work units)\n",
      "Optimal objective  1.511891111e+06\n",
      "\n",
      "User-callback calls 139, time in user-callback 0.00 sec\n"
     ]
    }
   ],
   "source": [
    "modelGreen = Model(Gurobi.Optimizer)\n",
    "\n",
    "@variable(modelGreen, x[1:directions, 1:times, 1:lines] >= 0)\n",
    "@variable(modelGreen, u[1:directions, 1:times, 1:stations_g] >= 0)\n",
    "\n",
    "@constraint(modelGreen, [d=1:directions, j=1:times, i=1:stations_g], \n",
    "    u[d,j,i] + (sum(capacity_green * x[d,j,l] * z_red[l,i] for l=1:lines)) >= AvgFlowGreen[i,j,d])\n",
    "\n",
    "@objective(modelGreen, Min, sum( sum(cost_green * x[d,j,l] for l=1:lines ) + \n",
    "                sum(q * u[d,j,i] for i=1:stations_g) for d=1:directions,  j=1:times))\n",
    "\n",
    "optimize!(modelGreen)"
   ]
  }
 ],
 "metadata": {
  "kernelspec": {
   "display_name": "Julia 1.8.2",
   "language": "julia",
   "name": "julia-1.8"
  },
  "language_info": {
   "file_extension": ".jl",
   "mimetype": "application/julia",
   "name": "julia",
   "version": "1.8.2"
  },
  "orig_nbformat": 4
 },
 "nbformat": 4,
 "nbformat_minor": 2
}
