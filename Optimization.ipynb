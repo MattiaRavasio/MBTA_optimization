{
 "cells": [
  {
   "cell_type": "code",
   "execution_count": 207,
   "metadata": {},
   "outputs": [],
   "source": [
    "using JuMP, Gurobi, CSV, DataFrames"
   ]
  },
  {
   "cell_type": "code",
   "execution_count": 208,
   "metadata": {},
   "outputs": [],
   "source": [
    "\"\"\"\n",
    "\"VERY_EARLY_MORNING\",\n",
    "\"EARLY_AM\",\n",
    "\"AM_PEAK\",\n",
    "\"MIDDAY_SCHOOL\",\n",
    "\"MIDDAY_BASE\",\n",
    "\"PM_PEAK\", \n",
    "\"EVENING\", \n",
    "\"LATE_EVENING\", \n",
    "\"NIGHT\"\n",
    "\"\"\";"
   ]
  },
  {
   "cell_type": "markdown",
   "metadata": {},
   "source": [
    "### Data loading"
   ]
  },
  {
   "cell_type": "code",
   "execution_count": 209,
   "metadata": {},
   "outputs": [],
   "source": [
    "Blue1 = Matrix(CSV.read(\"processed_data/Blue1_dataset.csv\", DataFrame));\n",
    "Blue2 = Matrix(CSV.read(\"processed_data/Blue2_dataset.csv\", DataFrame));\n",
    "\n",
    "Orange1 = Matrix(CSV.read(\"processed_data/Orange1_dataset.csv\", DataFrame));\n",
    "Orange2 = Matrix(CSV.read(\"processed_data/Orange2_dataset.csv\", DataFrame));\n",
    "\n",
    "Green1 = Matrix(CSV.read(\"processed_data/Green1_dataset.csv\", DataFrame));\n",
    "Green2 = Matrix(CSV.read(\"processed_data/Green2_dataset.csv\", DataFrame));\n",
    "\n",
    "Red1 = Matrix(CSV.read(\"processed_data/Red1_dataset.csv\", DataFrame));\n",
    "Red2 = Matrix(CSV.read(\"processed_data/Red2_dataset.csv\", DataFrame));\n",
    "\n",
    "Blue1_std = Matrix(CSV.read(\"processed_data/Blue1_std.csv\", DataFrame));\n",
    "Blue2_std = Matrix(CSV.read(\"processed_data/Blue2_std.csv\", DataFrame));\n",
    "\n",
    "Orange1_std = Matrix(CSV.read(\"processed_data/Orange1_std.csv\", DataFrame));\n",
    "Orange2_std = Matrix(CSV.read(\"processed_data/Orange2_std.csv\", DataFrame));\n",
    "\n",
    "Green1_std = Matrix(CSV.read(\"processed_data/Green1_std.csv\", DataFrame));\n",
    "Green2_std = Matrix(CSV.read(\"processed_data/Green2_std.csv\", DataFrame));\n",
    "\n",
    "Red1_std = Matrix(CSV.read(\"processed_data/Red1_std.csv\", DataFrame));\n",
    "Red2_std = Matrix(CSV.read(\"processed_data/Red2_std.csv\", DataFrame));"
   ]
  },
  {
   "cell_type": "code",
   "execution_count": 210,
   "metadata": {},
   "outputs": [],
   "source": [
    "AvgFlowBlue = cat(Blue1, Blue2, dims = 3);\n",
    "AvgFlowOrange = cat(Orange1, Orange2, dims = 3);\n",
    "AvgFlowGreen = cat(Green1, Green2, dims = 3);\n",
    "AvgFlowRed = cat(Red1, Red2, dims = 3);\n",
    "\n",
    "deltaBlue = cat(Blue1_std, Blue2_std, dims = 3);\n",
    "deltaOrange = cat(Orange1_std, Orange2_std, dims = 3);\n",
    "deltaGreen = cat(Green1_std, Green2_std, dims = 3);\n",
    "deltaRed = cat(Red1_std, Red2_std, dims = 3);"
   ]
  },
  {
   "cell_type": "code",
   "execution_count": 211,
   "metadata": {},
   "outputs": [],
   "source": [
    "cost_blue = 10000;\n",
    "cost_orange = 9000;\n",
    "cost_green = 8000;\n",
    "cost_red = 10000;\n",
    "\n",
    "capacity_blue = 1000;\n",
    "capacity_orange = 1100;\n",
    "capacity_green = 900;\n",
    "capacity_red = 1100;\n",
    "\n",
    "q = 2.4;"
   ]
  },
  {
   "cell_type": "markdown",
   "metadata": {},
   "source": [
    "## Blue model"
   ]
  },
  {
   "cell_type": "code",
   "execution_count": 212,
   "metadata": {},
   "outputs": [
    {
     "data": {
      "text/plain": [
       "(12, 9, 2)"
      ]
     },
     "metadata": {},
     "output_type": "display_data"
    }
   ],
   "source": [
    "size(AvgFlowBlue)"
   ]
  },
  {
   "cell_type": "code",
   "execution_count": 213,
   "metadata": {},
   "outputs": [
    {
     "data": {
      "text/plain": [
       "2"
      ]
     },
     "metadata": {},
     "output_type": "display_data"
    }
   ],
   "source": [
    "stations_b, times, directions = size(AvgFlowBlue);\n",
    "G = 2"
   ]
  },
  {
   "cell_type": "code",
   "execution_count": 214,
   "metadata": {},
   "outputs": [
    {
     "data": {
      "text/plain": [
       "(12, 9, 2)"
      ]
     },
     "metadata": {},
     "output_type": "display_data"
    }
   ],
   "source": [
    "size(AvgFlowBlue)"
   ]
  },
  {
   "cell_type": "code",
   "execution_count": 215,
   "metadata": {},
   "outputs": [
    {
     "name": "stdout",
     "output_type": "stream",
     "text": [
      "Set parameter Username\n",
      "Academic license - for non-commercial use only - expires 2023-10-04\n",
      "Gurobi Optimizer version 9.5.2 build v9.5.2rc0 (mac64[arm])\n",
      "Thread count: 8 physical cores, 8 logical processors, using up to 8 threads\n",
      "Optimize a model with 298 rows, 270 columns and 1026 nonzeros\n",
      "Model fingerprint: 0xd0ad3f26\n",
      "Variable types: 0 continuous, 270 integer (0 binary)\n",
      "Coefficient statistics:\n",
      "  Matrix range     [1e+00, 1e+03]\n",
      "  Objective range  [2e+00, 1e+04]\n",
      "  Bounds range     [0e+00, 0e+00]\n",
      "  RHS range        [1e+00, 1e+04]\n",
      "Found heuristic solution: objective 1394256.0000\n",
      "Presolve removed 99 rows and 92 columns\n",
      "Presolve time: 0.00s\n",
      "Presolved: 199 rows, 178 columns, 699 nonzeros\n",
      "Variable types: 0 continuous, 178 integer (0 binary)\n",
      "Found heuristic solution: objective 1251756.0000\n",
      "\n",
      "Root relaxation: objective 6.778316e+05, 75 iterations, 0.00 seconds (0.00 work units)\n",
      "\n",
      "    Nodes    |    Current Node    |     Objective Bounds      |     Work\n",
      " Expl Unexpl |  Obj  Depth IntInf | Incumbent    BestBd   Gap | It/Node Time\n",
      "\n",
      "     0     0 677831.600    0   24 1251756.00 677831.600  45.8%     -    0s\n",
      "H    0     0                    763833.60000 677831.600  11.3%     -    0s\n",
      "H    0     0                    702262.40000 677831.600  3.48%     -    0s\n",
      "H    0     0                    694332.00000 683681.016  1.53%     -    0s\n",
      "     0     0 683681.016    0   22 694332.000 683681.016  1.53%     -    0s\n",
      "H    0     0                    689926.40000 683681.016  0.91%     -    0s\n",
      "     0     0 684714.272    0   22 689926.400 684714.272  0.76%     -    0s\n",
      "     0     0 685410.305    0   28 689926.400 685410.305  0.65%     -    0s\n",
      "H    0     0                    687540.80000 685410.305  0.31%     -    0s\n",
      "     0     0 686140.662    0   36 687540.800 686140.662  0.20%     -    0s\n",
      "     0     0 686147.609    0   36 687540.800 686147.609  0.20%     -    0s\n",
      "     0     0 686154.628    0   36 687540.800 686154.628  0.20%     -    0s\n",
      "     0     0 686310.578    0   34 687540.800 686310.578  0.18%     -    0s\n",
      "H    0     0                    686602.40000 686314.110  0.04%     -    0s\n",
      "     0     0 686314.110    0   34 686602.400 686314.110  0.04%     -    0s\n",
      "     0     0 686317.552    0   32 686602.400 686317.552  0.04%     -    0s\n",
      "     0     0 686459.164    0   17 686602.400 686459.164  0.02%     -    0s\n",
      "     0     0 686459.164    0   10 686602.400 686459.164  0.02%     -    0s\n",
      "     0     0 686459.164    0   13 686602.400 686459.164  0.02%     -    0s\n",
      "\n",
      "Cutting planes:\n",
      "  Gomory: 4\n",
      "  MIR: 3\n",
      "  StrongCG: 1\n",
      "\n",
      "Explored 1 nodes (180 simplex iterations) in 0.02 seconds (0.01 work units)\n",
      "Thread count was 8 (of 8 available processors)\n",
      "\n",
      "Solution count 9: 686602 687541 689926 ... 1.39426e+06\n",
      "\n",
      "Optimal solution found (tolerance 1.00e-04)\n",
      "Best objective 6.866024000000e+05, best bound 6.866024000000e+05, gap 0.0000%\n",
      "\n",
      "User-callback calls 617, time in user-callback 0.00 sec\n"
     ]
    }
   ],
   "source": [
    "modelBlue = Model(Gurobi.Optimizer)\n",
    "\n",
    "@variable(modelBlue, x[1:directions, 1:times] >= 0, Int)\n",
    "@variable(modelBlue, u[1:directions, 1:times, 1:stations_b] >= 0, Int)\n",
    "@variable(modelBlue, s[1:directions, 1:times] >= 0, Int)\n",
    "@variable(modelBlue, r[1:directions, 1:times], Int)\n",
    "\n",
    "@constraint(modelBlue, [d=1:directions, j=2:times, i=1:stations_b], \n",
    "    u[d,j,i] + capacity_blue * (x[d,j] + s[d,j]) >= AvgFlowBlue[i,j,d] + u[d,j-1,i])\n",
    "@constraint(modelBlue, [d=1:directions, i=1:stations_b], \n",
    "    u[d,1,i] + capacity_blue * (x[d,1] + s[d,1]) >= AvgFlowBlue[i,1,d])\n",
    "@constraint(modelBlue,  [d=1:directions,  i=1:stations_b], u[d,9,i] == 0 )\n",
    "\n",
    "@constraint(modelBlue,  r[2,1] ==   x[1,1] )\n",
    "@constraint(modelBlue,  r[1,1] ==  x[2,1]  ) \n",
    "@constraint(modelBlue, [j=2:times], r[2,j] ==   x[1,j] +  s[1,j]  - s[2,j] + r[2,j-1])\n",
    "@constraint(modelBlue, [j=2:times], r[1,j] ==  x[2,j] +  s[2,j] - s[1,j] + r[1,j-1])\n",
    "\n",
    "@constraint(modelBlue, [d=1:directions], s[d,1] == 0)\n",
    "@constraint(modelBlue, [d=1:directions, j=2:times], s[d,j] <= r[d,j-1])\n",
    "\n",
    "@constraint(modelBlue, [d=1:directions], r[1, times]  >=  x[1,1])\n",
    "@constraint(modelBlue, [d=1:directions], r[2, times]  >=  x[2,1])\n",
    "\n",
    "@constraint(modelBlue, [j=1:times, d=1:directions], x[d,j] + s[d,j] >= 1)\n",
    "\n",
    "@objective(modelBlue, Min, sum(sum(cost_blue * x[d,j] + 0.95 * cost_blue * s[d,j] + \n",
    "            sum(q * u[d,j,i] for i=1:stations_b) for d=1:directions) for j=1:times))\n",
    "\n",
    "optimize!(modelBlue)"
   ]
  },
  {
   "cell_type": "markdown",
   "metadata": {},
   "source": [
    "### Robust reformulation for the blue model"
   ]
  },
  {
   "cell_type": "code",
   "execution_count": 216,
   "metadata": {},
   "outputs": [],
   "source": [
    "Gamma = 2;"
   ]
  },
  {
   "cell_type": "code",
   "execution_count": 217,
   "metadata": {},
   "outputs": [
    {
     "name": "stdout",
     "output_type": "stream",
     "text": [
      "Set parameter Username\n",
      "Academic license - for non-commercial use only - expires 2023-10-04\n",
      "Gurobi Optimizer version 9.5.2 build v9.5.2rc0 (mac64[arm])\n",
      "Thread count: 8 physical cores, 8 logical processors, using up to 8 threads\n",
      "Optimize a model with 946 rows, 1135 columns and 3526 nonzeros\n",
      "Model fingerprint: 0xb53e03ce\n",
      "Variable types: 0 continuous, 1135 integer (0 binary)\n",
      "Coefficient statistics:\n",
      "  Matrix range     [1e+00, 1e+04]\n",
      "  Objective range  [2e+00, 1e+04]\n",
      "  Bounds range     [0e+00, 0e+00]\n",
      "  RHS range        [1e+00, 1e+00]\n",
      "Presolve removed 684 rows and 895 columns\n",
      "Presolve time: 0.00s\n",
      "Presolved: 262 rows, 240 columns, 932 nonzeros\n",
      "Variable types: 0 continuous, 240 integer (0 binary)\n",
      "\n",
      "Root relaxation: objective 8.712133e+05, 95 iterations, 0.00 seconds (0.00 work units)\n",
      "\n",
      "    Nodes    |    Current Node    |     Objective Bounds      |     Work\n",
      " Expl Unexpl |  Obj  Depth IntInf | Incumbent    BestBd   Gap | It/Node Time\n",
      "\n",
      "     0     0 871213.300    0   32          - 871213.300      -     -    0s\n",
      "H    0     0                    954025.60000 871213.300  8.68%     -    0s\n",
      "H    0     0                    919592.80000 871213.300  5.26%     -    0s\n",
      "H    0     0                    910436.00000 871213.300  4.31%     -    0s\n",
      "     0     0 885221.221    0   47 910436.000 885221.221  2.77%     -    0s\n",
      "H    0     0                    903073.60000 885221.221  1.98%     -    0s\n",
      "     0     0 889032.169    0   57 903073.600 889032.169  1.55%     -    0s\n",
      "     0     0 889032.169    0   54 903073.600 889032.169  1.55%     -    0s\n",
      "     0     0 889032.169    0   55 903073.600 889032.169  1.55%     -    0s\n",
      "     0     0 889032.169    0   56 903073.600 889032.169  1.55%     -    0s\n",
      "     0     0 889032.358    0   46 903073.600 889032.358  1.55%     -    0s\n",
      "     0     0 890713.623    0   68 903073.600 890713.623  1.37%     -    0s\n",
      "     0     0 890809.967    0   49 903073.600 890809.967  1.36%     -    0s\n",
      "     0     0 891006.382    0   65 903073.600 891006.382  1.34%     -    0s\n",
      "     0     0 891092.949    0   50 903073.600 891092.949  1.33%     -    0s\n",
      "     0     0 891209.416    0   34 903073.600 891209.416  1.31%     -    0s\n",
      "H    0     0                    898170.40000 891209.416  0.78%     -    0s\n",
      "     0     0 893574.048    0   52 898170.400 893574.048  0.51%     -    0s\n",
      "     0     0 894479.842    0   52 898170.400 894479.842  0.41%     -    0s\n",
      "     0     0 894759.045    0   66 898170.400 894759.045  0.38%     -    0s\n",
      "     0     0 894987.089    0   57 898170.400 894987.089  0.35%     -    0s\n",
      "     0     0 895039.963    0   67 898170.400 895039.963  0.35%     -    0s\n",
      "     0     0 895148.686    0   42 898170.400 895148.686  0.34%     -    0s\n",
      "     0     0 895172.126    0   43 898170.400 895172.126  0.33%     -    0s\n",
      "H    0     0                    897670.40000 895172.126  0.28%     -    0s\n",
      "     0     0 895753.076    0   39 897670.400 895753.076  0.21%     -    0s\n",
      "     0     0 895753.076    0   37 897670.400 895753.076  0.21%     -    0s\n",
      "     0     0 895753.076    0   37 897670.400 895753.076  0.21%     -    0s\n",
      "H    0     0                    895981.60000 895753.076  0.03%     -    0s\n",
      "     0     0 895753.076    0   34 895981.600 895753.076  0.03%     -    0s\n",
      "     0     0 895753.076    0   42 895981.600 895753.076  0.03%     -    0s\n",
      "     0     0 895753.076    0    7 895981.600 895753.076  0.03%     -    0s\n",
      "     0     0 895766.352    0   11 895981.600 895766.352  0.02%     -    0s\n",
      "     0     0 895860.538    0   14 895981.600 895860.538  0.01%     -    0s\n",
      "     0     0 895862.830    0   17 895981.600 895862.830  0.01%     -    0s\n",
      "     0     0 895876.800    0   18 895981.600 895876.800  0.01%     -    0s\n",
      "\n",
      "Cutting planes:\n",
      "  Gomory: 4\n",
      "  MIR: 23\n",
      "  StrongCG: 1\n",
      "  Zero half: 1\n",
      "\n",
      "Explored 1 nodes (326 simplex iterations) in 0.05 seconds (0.03 work units)\n",
      "Thread count was 8 (of 8 available processors)\n",
      "\n",
      "Solution count 8: 895982 897670 898170 ... 955591\n",
      "\n",
      "Optimal solution found (tolerance 1.00e-04)\n",
      "Best objective 8.959816000000e+05, best bound 8.959816000000e+05, gap 0.0000%\n",
      "\n",
      "User-callback calls 379, time in user-callback 0.00 sec\n"
     ]
    }
   ],
   "source": [
    "modelBlue = Model(Gurobi.Optimizer)\n",
    "\n",
    "@variable(modelBlue, x[1:directions, 1:times] >= 0, Int)\n",
    "@variable(modelBlue, u[1:directions, 1:times, 1:stations_b] >= 0, Int)\n",
    "@variable(modelBlue, s[1:directions, 1:times] >= 0, Int)\n",
    "@variable(modelBlue, r[1:directions, 1:times], Int)\n",
    "@variable(modelBlue, alpha[1:directions, 1:times, 1:stations_b] >=0, Int)\n",
    "@variable(modelBlue, beta[1:directions, 1:times, 1:stations_b]  >=0, Int)\n",
    "@variable(modelBlue, l  >=0, Int)\n",
    "@variable(modelBlue, lambda[1:directions, 1:times, 1:stations_b]  >=0, Int)\n",
    "@variable(modelBlue, phi[1:directions, 1:times, 1:stations_b]  >=0, Int)\n",
    "\n",
    "@constraint(modelBlue, [d=1:directions, j=2:times, i=1:stations_b], \n",
    "    u[d,j,i] + capacity_blue * (x[d,j] + s[d,j]) >= -AvgFlowBlue[i,j,d]*alpha[d,j,i] + AvgFlowBlue[i,j,d]*beta[d,j,i] + Gamma*l + u[d,j-1,i])\n",
    "@constraint(modelBlue, [d=1:directions, i=1:stations_b], \n",
    "    u[d,1,i] + capacity_blue * (x[d,1] + s[d,1]) >= -AvgFlowBlue[i,1,d]*alpha[d,1,i] + AvgFlowBlue[i,1,d]*beta[d,1,i] + Gamma*l )\n",
    "@constraint(modelBlue,  [d=1:directions,  i=1:stations_b], u[d,9,i] == 0 )\n",
    "#=\n",
    "@constraint(modelBlue, [d=1:directions, j=2:times, i=1:stations_b], \n",
    "    u[d,j,i] + capacity_blue * (x[d,j] + s[d,j]) >= AvgFlowBlue[i,j,d] + u[d,j-1,i])\n",
    "@constraint(modelBlue, [d=1:directions, j=1, i=1:stations_b], \n",
    "    u[d,j,i] + capacity_blue * (x[d,j] + s[d,j]) >= AvgFlowBlue[i,j,d])\n",
    "@constraint(modelBlue,  [d=1:directions, j=9, i=1:stations_b], u[d,j,i] == 0 )\n",
    "=#\n",
    "@constraint(modelBlue, [d=1:directions, j=1:times, i=1:stations_b], -alpha[d,j,i] + beta[d,j,i] >= 1)\n",
    "@constraint(modelBlue, [d=1:directions, j=1:times, i=1:stations_b], -deltaBlue[i,j,d] * alpha[d,j,i] - deltaBlue[i,j,d] * beta[d,j,i] + lambda[d,j,i] - phi[d,j,i] >= 0)\n",
    "@constraint(modelBlue, [d=1:directions, j=1:times, i=1:stations_b], l - lambda[d,j,i] - phi[d,j,i] >= 0)\n",
    "\n",
    "@constraint(modelBlue,  r[2,1] ==   x[1,1] )\n",
    "@constraint(modelBlue,  r[1,1] ==  x[2,1]  ) \n",
    "@constraint(modelBlue, [j=2:times], r[2,j] ==   x[1,j] +  s[1,j]  - s[2,j] + r[2,j-1])\n",
    "@constraint(modelBlue, [j=2:times], r[1,j] ==  x[2,j] +  s[2,j] - s[1,j] + r[1,j-1])\n",
    "\n",
    "@constraint(modelBlue, [d=1:directions], s[d,1] == 0)\n",
    "@constraint(modelBlue, [d=1:directions, j=2:times], s[d,j] <= r[d,j-1])\n",
    "\n",
    "@constraint(modelBlue, [d=1:directions], r[1, times]  >=  x[1,1])\n",
    "@constraint(modelBlue, [d=1:directions], r[2, times]  >=  x[2,1])\n",
    "\n",
    "@constraint(modelBlue, [j=1:times, d=1:directions], x[d,j] + s[d,j] >= 1)\n",
    "\n",
    "@objective(modelBlue, Min, sum(sum(cost_blue * x[d,j] + 0.95 * cost_blue * s[d,j] + \n",
    "            sum(q * u[d,j,i] for i=1:stations_b) for d=1:directions) for j=1:times))\n",
    "\n",
    "optimize!(modelBlue)"
   ]
  },
  {
   "cell_type": "markdown",
   "metadata": {},
   "source": [
    "## Orange model"
   ]
  },
  {
   "cell_type": "code",
   "execution_count": 218,
   "metadata": {},
   "outputs": [],
   "source": [
    "stations_o, times, directions = size(AvgFlowOrange);"
   ]
  },
  {
   "cell_type": "code",
   "execution_count": 219,
   "metadata": {},
   "outputs": [
    {
     "name": "stdout",
     "output_type": "stream",
     "text": [
      "Set parameter Username\n",
      "Academic license - for non-commercial use only - expires 2023-10-04\n",
      "Gurobi Optimizer version 9.5.2 build v9.5.2rc0 (mac64[arm])\n",
      "Thread count: 8 physical cores, 8 logical processors, using up to 8 threads\n",
      "Optimize a model with 458 rows, 414 columns and 1602 nonzeros\n",
      "Model fingerprint: 0xa580252e\n",
      "Variable types: 0 continuous, 414 integer (0 binary)\n",
      "Coefficient statistics:\n",
      "  Matrix range     [1e+00, 1e+03]\n",
      "  Objective range  [2e+00, 9e+03]\n",
      "  Bounds range     [0e+00, 0e+00]\n",
      "  RHS range        [1e+00, 1e+04]\n",
      "Found heuristic solution: objective 1318185.6000\n",
      "Presolve removed 124 rows and 118 columns\n",
      "Presolve time: 0.00s\n",
      "Presolved: 334 rows, 296 columns, 1212 nonzeros\n",
      "Variable types: 0 continuous, 296 integer (0 binary)\n",
      "Found heuristic solution: objective 1178217.6000\n",
      "\n",
      "Root relaxation: objective 7.734334e+05, 101 iterations, 0.00 seconds (0.00 work units)\n",
      "\n",
      "    Nodes    |    Current Node    |     Objective Bounds      |     Work\n",
      " Expl Unexpl |  Obj  Depth IntInf | Incumbent    BestBd   Gap | It/Node Time\n",
      "\n",
      "     0     0 773433.436    0   30 1178217.60 773433.436  34.4%     -    0s\n",
      "H    0     0                    833594.40000 773433.436  7.22%     -    0s\n",
      "H    0     0                    815916.00000 773433.436  5.21%     -    0s\n",
      "     0     0 778516.218    0   35 815916.000 778516.218  4.58%     -    0s\n",
      "H    0     0                    801556.80000 778516.218  2.87%     -    0s\n",
      "     0     0 782278.167    0   53 801556.800 782278.167  2.41%     -    0s\n",
      "H    0     0                    792345.60000 784493.740  0.99%     -    0s\n",
      "     0     0 784493.740    0   57 792345.600 784493.740  0.99%     -    0s\n",
      "     0     0 785901.788    0   47 792345.600 785901.788  0.81%     -    0s\n",
      "     0     0 785909.820    0   42 792345.600 785909.820  0.81%     -    0s\n",
      "     0     0 787022.782    0   25 792345.600 787022.782  0.67%     -    0s\n",
      "     0     0 787101.912    0   34 792345.600 787101.912  0.66%     -    0s\n",
      "     0     0 787111.970    0   35 792345.600 787111.970  0.66%     -    0s\n",
      "H    0     0                    788928.00000 787111.970  0.23%     -    0s\n",
      "H    0     0                    787524.00000 787111.970  0.05%     -    0s\n",
      "     0     0 787381.636    0   17 787524.000 787381.636  0.02%     -    0s\n",
      "     0     0 787381.636    0    4 787524.000 787381.636  0.02%     -    0s\n",
      "     0     0 787381.636    0    7 787524.000 787381.636  0.02%     -    0s\n",
      "     0     0 787381.636    0    4 787524.000 787381.636  0.02%     -    0s\n",
      "     0     0     cutoff    0      787524.000 787524.000  0.00%     -    0s\n",
      "\n",
      "Cutting planes:\n",
      "  MIR: 10\n",
      "\n",
      "Explored 1 nodes (237 simplex iterations) in 0.02 seconds (0.02 work units)\n",
      "Thread count was 8 (of 8 available processors)\n",
      "\n",
      "Solution count 9: 787524 788928 792346 ... 1.31819e+06\n",
      "\n",
      "Optimal solution found (tolerance 1.00e-04)\n",
      "Best objective 7.875240000000e+05, best bound 7.875240000000e+05, gap 0.0000%\n",
      "\n",
      "User-callback calls 590, time in user-callback 0.00 sec\n"
     ]
    }
   ],
   "source": [
    "modelOrange = Model(Gurobi.Optimizer)\n",
    "\n",
    "@variable(modelOrange, x[1:directions, 1:times] >= 0, Int)\n",
    "@variable(modelOrange, u[1:directions, 1:times, 1:stations_o] >= 0, Int)\n",
    "@variable(modelOrange, s[1:directions, 1:times] >= 0, Int)\n",
    "@variable(modelOrange, r[1:directions, 1:times], Int)\n",
    "\n",
    "@constraint(modelOrange, [d=1:directions, j=2:times, i=1:stations_o], \n",
    "    u[d,j,i] + capacity_orange * (x[d,j] + s[d,j]) >= AvgFlowOrange[i,j,d] + u[d,j-1,i])\n",
    "@constraint(modelOrange, [d=1:directions, i=1:stations_o], \n",
    "    u[d,1,i] + capacity_orange * (x[d,1] + s[d,1]) >= AvgFlowOrange[i,1,d])\n",
    "@constraint(modelOrange,  [d=1:directions, i=1:stations_o],  u[d,9,i] == 0 )\n",
    "\n",
    "@constraint(modelOrange,  r[2,1] ==   x[1,1] )\n",
    "@constraint(modelOrange,  r[1,1] ==  x[2,1]  ) \n",
    "@constraint(modelOrange, [j=2:times], r[2,j] ==   x[1,j] +  s[1,j]  - s[2,j] + r[2,j-1])\n",
    "@constraint(modelOrange, [j=2:times], r[1,j] ==  x[2,j] +  s[2,j] - s[1,j] + r[1,j-1])\n",
    "\n",
    "@constraint(modelOrange, [d=1:directions], s[d,1] == 0)\n",
    "@constraint(modelOrange, [d=1:directions, j=2:times], s[d,j] <= r[d,j-1])\n",
    "\n",
    "@constraint(modelOrange, [d=1:directions], r[1, times]  >=  x[1,1])\n",
    "@constraint(modelOrange, [d=1:directions], r[2, times]  >=  x[2,1])\n",
    "\n",
    "@constraint(modelOrange, [j=1:times, d=1:directions], x[d,j] + s[d,j] >= 1)\n",
    "\n",
    "@objective(modelOrange, Min, sum(sum(cost_orange * x[d,j] + 0.9 * cost_orange * s[d,j] + \n",
    "            sum(q * u[d,j,i] for i=1:stations_o) for d=1:directions) for j=1:times))\n",
    "\n",
    "optimize!(modelOrange)"
   ]
  },
  {
   "cell_type": "markdown",
   "metadata": {},
   "source": [
    "## Red model"
   ]
  },
  {
   "cell_type": "code",
   "execution_count": 172,
   "metadata": {},
   "outputs": [],
   "source": [
    "stations_r, times, directions = size(AvgFlowRed);\n",
    "lines = 2;"
   ]
  },
  {
   "cell_type": "code",
   "execution_count": 173,
   "metadata": {},
   "outputs": [],
   "source": [
    "Red1 = [\"Alewife\", \"Davis\", \"Porter\", \"Harvard\", \"Central\", \"Kendall/MIT\", \"Charles/MGH\",\n",
    "     \"Park Street\", \"Downtown Crossing\", \"South Station\", \"Broadway\", \"Andrew\", \"JFK/Umass\",\n",
    "      \"Savin Hill\", \"Fields Corner\", \"Shawmut\", \"Ashmont\"];\n",
    "\n",
    "Red2 = [\"Alewife\", \"Davis\", \"Porter\", \"Harvard\", \"Central\", \"Kendall/MIT\", \"Charles/MGH\",\n",
    "     \"Park Street\", \"Downtown Crossing\", \"South Station\", \"Broadway\", \"Andrew\", \"JFK/Umass\",\n",
    "      \"North Quincy\", \"Wollaston\", \"Quincy Center\", \"Quincy Adams\", \"Braintree\"];\n",
    "\n",
    "red_stations = unique(vcat(Red1, Red2));"
   ]
  },
  {
   "cell_type": "code",
   "execution_count": 174,
   "metadata": {},
   "outputs": [],
   "source": [
    "z_red = zeros((2,22));\n",
    "\n",
    "for i = 1:22\n",
    "    if red_stations[i] in Red1\n",
    "        z_red[1,i] = 1\n",
    "    end\n",
    "    if red_stations[i] in Red2\n",
    "        z_red[2,i] = 1\n",
    "    end\n",
    "end"
   ]
  },
  {
   "cell_type": "code",
   "execution_count": 176,
   "metadata": {},
   "outputs": [
    {
     "name": "stdout",
     "output_type": "stream",
     "text": [
      "Set parameter Username\n",
      "Academic license - for non-commercial use only - expires 2023-10-04\n",
      "Gurobi Optimizer version 9.5.2 build v9.5.2rc0 (mac64[arm])\n",
      "Thread count: 8 physical cores, 8 logical processors, using up to 8 threads\n",
      "Optimize a model with 556 rows, 504 columns and 2376 nonzeros\n",
      "Model fingerprint: 0xcd978c25\n",
      "Variable types: 0 continuous, 504 integer (0 binary)\n",
      "Coefficient statistics:\n",
      "  Matrix range     [1e+00, 1e+03]\n",
      "  Objective range  [2e+00, 1e+04]\n",
      "  Bounds range     [0e+00, 0e+00]\n",
      "  RHS range        [1e+00, 2e+04]\n",
      "Found heuristic solution: objective 3107817.6000\n",
      "Presolve removed 147 rows and 136 columns\n",
      "Presolve time: 0.00s\n",
      "Presolved: 409 rows, 368 columns, 1825 nonzeros\n",
      "Variable types: 0 continuous, 368 integer (0 binary)\n",
      "Found heuristic solution: objective 2875600.8000\n",
      "\n",
      "Root relaxation: objective 1.849936e+06, 152 iterations, 0.00 seconds (0.00 work units)\n",
      "\n",
      "    Nodes    |    Current Node    |     Objective Bounds      |     Work\n",
      " Expl Unexpl |  Obj  Depth IntInf | Incumbent    BestBd   Gap | It/Node Time\n",
      "\n",
      "     0     0 1849936.33    0   53 2875600.80 1849936.33  35.7%     -    0s\n",
      "H    0     0                    1987372.8000 1849936.33  6.92%     -    0s\n",
      "H    0     0                    1933268.8000 1849936.33  4.31%     -    0s\n",
      "     0     0 1864423.98    0   47 1933268.80 1864423.98  3.56%     -    0s\n",
      "H    0     0                    1914132.8000 1864423.98  2.60%     -    0s\n",
      "H    0     0                    1888049.6000 1864423.98  1.25%     -    0s\n",
      "     0     0 1865538.15    0   47 1888049.60 1865538.15  1.19%     -    0s\n",
      "     0     0 1868011.28    0   63 1888049.60 1868011.28  1.06%     -    0s\n",
      "     0     0 1869430.99    0   51 1888049.60 1869430.99  0.99%     -    0s\n",
      "     0     0 1869432.67    0   63 1888049.60 1869432.67  0.99%     -    0s\n",
      "     0     0 1869840.20    0   56 1888049.60 1869840.20  0.96%     -    0s\n",
      "H    0     0                    1881243.2000 1869840.20  0.61%     -    0s\n",
      "     0     0 1869916.62    0   60 1881243.20 1869916.62  0.60%     -    0s\n",
      "H    0     0                    1880855.2000 1869920.49  0.58%     -    0s\n",
      "     0     0 1869920.49    0   62 1880855.20 1869920.49  0.58%     -    0s\n",
      "H    0     0                    1877495.2000 1869920.49  0.40%     -    0s\n",
      "     0     0 1870022.81    0   61 1877495.20 1870022.81  0.40%     -    0s\n",
      "     0     0 1870201.47    0   59 1877495.20 1870201.47  0.39%     -    0s\n",
      "H    0     0                    1873855.2000 1870201.47  0.19%     -    0s\n",
      "     0     0 1870249.32    0   59 1873855.20 1870249.32  0.19%     -    0s\n",
      "H    0     0                    1872611.2000 1870249.32  0.13%     -    0s\n",
      "     0     0 1870440.37    0   50 1872611.20 1870440.37  0.12%     -    0s\n",
      "     0     0 1870440.37    0   50 1872611.20 1870440.37  0.12%     -    0s\n",
      "     0     0 1870440.37    0   49 1872611.20 1870440.37  0.12%     -    0s\n",
      "     0     0 1870440.37    0   42 1872611.20 1870440.37  0.12%     -    0s\n",
      "     0     0 1870440.37    0   49 1872611.20 1870440.37  0.12%     -    0s\n",
      "     0     0 1870440.37    0   48 1872611.20 1870440.37  0.12%     -    0s\n",
      "     0     0 1871807.30    0   41 1872611.20 1871807.30  0.04%     -    0s\n",
      "     0     0 1872120.89    0   33 1872611.20 1872120.89  0.03%     -    0s\n",
      "     0     0 1872207.37    0   34 1872611.20 1872207.37  0.02%     -    0s\n",
      "     0     0 1872207.37    0   19 1872611.20 1872207.37  0.02%     -    0s\n",
      "     0     0 1872207.37    0   28 1872611.20 1872207.37  0.02%     -    0s\n",
      "     0     0 1872488.86    0   17 1872611.20 1872488.86  0.01%     -    0s\n",
      "\n",
      "Cutting planes:\n",
      "  Gomory: 4\n",
      "  MIR: 13\n",
      "  Zero half: 1\n",
      "\n",
      "Explored 1 nodes (462 simplex iterations) in 0.07 seconds (0.05 work units)\n",
      "Thread count was 8 (of 8 available processors)\n",
      "\n",
      "Solution count 10: 1.87261e+06 1.87386e+06 1.8775e+06 ... 2.8756e+06\n",
      "\n",
      "Optimal solution found (tolerance 1.00e-04)\n",
      "Best objective 1.872611200000e+06, best bound 1.872488859628e+06, gap 0.0065%\n",
      "\n",
      "User-callback calls 673, time in user-callback 0.00 sec\n"
     ]
    }
   ],
   "source": [
    "modelRed = Model(Gurobi.Optimizer)\n",
    "\n",
    "@variable(modelRed, x[1:directions, 1:times, 1:lines] >= 0, Int)\n",
    "@variable(modelRed, u[1:directions, 1:times, 1:stations_r] >= 0, Int)\n",
    "@variable(modelRed, s[1:directions, 1:times, 1:lines] >= 0, Int)\n",
    "@variable(modelRed, r[1:directions, 1:times, 1:lines], Int)\n",
    "\n",
    "@constraint(modelRed, [d=1:directions, j=2:times, i=1:stations_r], \n",
    "    u[d,j,i] + (sum(capacity_red * (x[d,j,l] + s[d,j,l]) * z_red[l,i] for l=1:lines)) >= AvgFlowRed[i,j,d] + u[d,j-1,i])\n",
    "@constraint(modelRed, [d=1:directions,  i=1:stations_r], \n",
    "    u[d,1,i] + (sum(capacity_red * (x[d,1,l] + s[d,1,l]) * z_red[l,i] for l=1:lines)) >= AvgFlowRed[i,1,d])\n",
    "@constraint(modelRed,  [d=1:directions, i=1:stations_r],  u[d,9,i] == 0 )\n",
    "   \n",
    "\n",
    "@constraint(modelRed, [l=1:lines], r[2,1,l] ==   x[1,1,l] )\n",
    "@constraint(modelRed, [l=1:lines], r[1,1,l] ==  x[2,1,l]  ) \n",
    "@constraint(modelRed, [j=2:times, l=1:lines], r[2,j,l] ==   x[1,j,l] +  s[1,j,l]  - s[2,j,l] + r[2,j-1,l])\n",
    "@constraint(modelRed, [j=2:times, l=1:lines], r[1,j,l] ==  x[2,j,l] +  s[2,j,l] - s[1,j,l] + r[1,j-1,l])\n",
    "\n",
    "@constraint(modelRed, [d=1:directions, l=1:lines], s[d,1,l] == 0)\n",
    "@constraint(modelRed, [d=1:directions, j=2:times, l=1:lines], s[d,j,l] <= r[d,j-1,l])\n",
    "\n",
    "@constraint(modelRed, [d=1:directions, l=1:lines], r[1, times, l]  >=  x[1,1,l])\n",
    "@constraint(modelRed, [d=1:directions, l=1:lines], r[2, times, l]  >=  x[2,1,l])\n",
    "\n",
    "@constraint(modelRed, [j=1:times, d=1:directions, l=1:lines], x[d,j,l] + s[d,j,l] >= 1)\n",
    "\n",
    "@objective(modelRed, Min, sum( sum(cost_red * x[d,j,l] + 0.9 * cost_red * s[d,j,l] for l=1:lines ) + \n",
    "                sum(q * u[d,j,i] for i=1:stations_r) for d=1:directions,  j=1:times))\n",
    "\n",
    "optimize!(modelRed)"
   ]
  },
  {
   "cell_type": "markdown",
   "metadata": {},
   "source": [
    "### Green line"
   ]
  },
  {
   "cell_type": "code",
   "execution_count": 187,
   "metadata": {},
   "outputs": [],
   "source": [
    "stations_g, times, directions = size(AvgFlowGreen);\n",
    "lines = 4;"
   ]
  },
  {
   "cell_type": "code",
   "execution_count": 189,
   "metadata": {},
   "outputs": [],
   "source": [
    "Green1 = [\"Lechmere\", \"Science Park\", \"North Station\", \"Haymarket\", \"Government Center\", \"Park Street\", \"Boylston\",\n",
    " \"Arlington\", \"Copley\", \"Hynes Convention Center\", \"Kenmore\", \"Blandford Street\", \"Boston Univ. East\", \n",
    " \"Boston Univ. Central\", \"Boston Univ. West\", \"Saint Paul Street\", \"Pleasant Street\", \"Babcock Street\",\n",
    " \"Harvard Ave.\",\"Griggs Street\", \"Allston Street\", \"Warren Street\", \"Washington Street\", \"Sutherland Road\",\n",
    "\"Chiswick Road\", \"Chestnut Hill Ave.\", \"South Street\"];\n",
    "\n",
    "Green2 = [\"Government Center\", \"Park Street\", \"Boylston\", \"Arlington\", \"Copley\", \"Hynes Convention Center\", \"Kenmore\", \n",
    "\"Saint Mary Street\", \"Hawes Street\", \"Kent Street\", \"Saint Paul Street\", \"Coolidge Corner\", \"Summit Ave.\", \n",
    "\"Brandon Hall\", \"Fairbanks Street\", \"Washington Square\", \"Tappan Street\", \"Dean Road\", \"Englewood Ave.\", \"Cleveland Circle\"];\n",
    "\n",
    "Green3 = [\"Lechmere\", \"Science Park\", \"North Station\", \"Haymarket\", \"Government Center\", \"Park Street\", \"Boylston\", \n",
    "\"Arlington\", \"Copley\", \"Hynes Convention Center\", \"Kenmore\", \"Fenway\", \"Longwood\", \"Brookline Village\", \"Brookline Hills\",\n",
    "\"Beaconsfield\", \"Reservoir\", \"Chestnut Hill Ave.\", \"Newton Centre\", \"Newton Highlands\", \"Eliot\", \"Waban\", \"Woodland\", \n",
    "\"Riverside\"];\n",
    "\n",
    "Green4 = [\"Lechmere\", \"Science Park\", \"North Station\", \"Haymarket\", \"Government Center\", \"Park Street\", \"Boylston\",\n",
    "    \"Arlington\", \"Copley\", \"Prudential\", \"Symphony\", \"Northeastern University\", \"Museum of Fine Arts\", \"Longwood\",\n",
    "    \"Brigham Circle\", \"Fenwood Road\", \"Mission Park\", \"Riverway\", \"Back of the Hill\", \"Heath Street\"];\n",
    "\n",
    "green_stations = unique(vcat(Green1, Green2, Green3, Green4));\n",
    "\n",
    "stations_g=61;\n"
   ]
  },
  {
   "cell_type": "code",
   "execution_count": 190,
   "metadata": {},
   "outputs": [],
   "source": [
    "z_green = zeros((4,61));\n",
    "\n",
    "for i = 1:61\n",
    "    if green_stations[i] in Green1\n",
    "        z_green[1,i] = 1\n",
    "    end\n",
    "    if green_stations[i] in Green2\n",
    "        z_green[2,i] = 1\n",
    "    end\n",
    "    if green_stations[i] in Green3 \n",
    "        z_green[3,i] = 1\n",
    "    end\n",
    "    if green_stations[i] in Green4 \n",
    "        z_green[4,i] = 1\n",
    "    end\n",
    "end"
   ]
  },
  {
   "cell_type": "code",
   "execution_count": 192,
   "metadata": {},
   "outputs": [
    {
     "name": "stdout",
     "output_type": "stream",
     "text": [
      "Set parameter Username\n",
      "Academic license - for non-commercial use only - expires 2023-10-04\n",
      "Gurobi Optimizer version 9.5.2 build v9.5.2rc0 (mac64[arm])\n",
      "Thread count: 8 physical cores, 8 logical processors, using up to 8 threads\n",
      "Optimize a model with 1452 rows, 1314 columns and 2712 nonzeros\n",
      "Model fingerprint: 0xd570bc56\n",
      "Variable types: 0 continuous, 1314 integer (0 binary)\n",
      "Coefficient statistics:\n",
      "  Matrix range     [1e+00, 9e+02]\n",
      "  Objective range  [2e+00, 8e+03]\n",
      "  Bounds range     [0e+00, 0e+00]\n",
      "  RHS range        [1e+00, 1e+04]\n",
      "Presolve removed 1428 rows and 1290 columns\n",
      "Presolve time: 0.00s\n",
      "Presolved: 24 rows, 24 columns, 84 nonzeros\n",
      "Variable types: 0 continuous, 24 integer (0 binary)\n",
      "\n",
      "Root relaxation: objective 1.872000e+06, 8 iterations, 0.00 seconds (0.00 work units)\n",
      "\n",
      "    Nodes    |    Current Node    |     Objective Bounds      |     Work\n",
      " Expl Unexpl |  Obj  Depth IntInf | Incumbent    BestBd   Gap | It/Node Time\n",
      "\n",
      "*    0     0               0    1872000.0000 1872000.00  0.00%     -    0s\n",
      "\n",
      "Explored 1 nodes (8 simplex iterations) in 0.00 seconds (0.00 work units)\n",
      "Thread count was 8 (of 8 available processors)\n",
      "\n",
      "Solution count 1: 1.872e+06 \n",
      "\n",
      "Optimal solution found (tolerance 1.00e-04)\n",
      "Best objective 1.872000000000e+06, best bound 1.872000000000e+06, gap 0.0000%\n",
      "\n",
      "User-callback calls 298, time in user-callback 0.00 sec\n"
     ]
    }
   ],
   "source": [
    "modelGreen = Model(Gurobi.Optimizer)\n",
    "\n",
    "@variable(modelGreen, x[1:directions, 1:times, 1:lines] >= 0, Int)\n",
    "@variable(modelGreen, u[1:directions, 1:times, 1:stations_g] >= 0, Int)\n",
    "@variable(modelGreen, s[1:directions, 1:times, 1:lines] >= 0, Int)\n",
    "@variable(modelGreen, r[1:directions, 1:times, 1:lines] >= 0, Int)\n",
    "\n",
    "@constraint(modelGreen, [d=1:directions, j=2:times, i=1:stations_g], \n",
    "     (sum(capacity_green * (x[d,j,l]) * z_green[l,i] for l=1:lines)) >= AvgFlowGreen[i,j,d])\n",
    "@constraint(modelGreen, [d=1:directions, i=1:stations_g], \n",
    "    u[d,1,i] + (sum(capacity_green * (x[d,1,l] + s[d,1,l]) * z_green[l,i] for l=1:lines)) >= AvgFlowGreen[i,1,d])\n",
    "@constraint(modelGreen, [d=1:directions, i=1:stations_g], u[d,9,i]==0)\n",
    "\n",
    "@constraint(modelGreen, [l=1:lines], r[2,1,l] ==   x[1,1,l])\n",
    "@constraint(modelGreen, [l=1:lines], r[1,1,l] ==  x[2,1,l]) \n",
    "@constraint(modelGreen, [j=2:times, l=1:lines], r[2,j,l] ==   x[1,j,l] +  s[1,j,l]  - s[2,j,l] + r[2,j-1,l])\n",
    "@constraint(modelGreen, [j=2:times, l=1:lines], r[1,j,l] ==  x[2,j,l] +  s[2,j,l] - s[1,j,l] + r[1,j-1,l])\n",
    "\n",
    "@constraint(modelGreen, [d=1:directions, l=1:lines], s[d,1,l] == 0)\n",
    "@constraint(modelGreen, [d=1:directions, j=2:times, l=1:lines], s[d,j,l] <= r[d,j-1,l])\n",
    "\n",
    "@constraint(modelGreen, [d=1:directions, l=1:lines], r[1, times, l]  >=  x[1,1,l])\n",
    "@constraint(modelGreen, [d=1:directions, l=1:lines], r[2, times, l]  >=  x[2,1,l])\n",
    "\n",
    "@constraint(modelGreen, [j=1:times, d=1:directions, l=1:lines], x[d,j,l] + s[d,j,l] >= 1)\n",
    "\n",
    "@objective(modelGreen, Min, sum( sum(cost_green * x[d,j,l] + 0.9 * cost_green * s[d,j,l] for l=1:lines ) + \n",
    "                sum(q * u[d,j,i] for i=1:stations_g) for d=1:directions,  j=1:times))\n",
    "\n",
    "optimize!(modelGreen)"
   ]
  }
 ],
 "metadata": {
  "kernelspec": {
   "display_name": "Julia 1.8.2",
   "language": "julia",
   "name": "julia-1.8"
  },
  "language_info": {
   "file_extension": ".jl",
   "mimetype": "application/julia",
   "name": "julia",
   "version": "1.8.2"
  },
  "orig_nbformat": 4,
  "vscode": {
   "interpreter": {
    "hash": "40d3a090f54c6569ab1632332b64b2c03c39dcf918b08424e98f38b5ae0af88f"
   }
  }
 },
 "nbformat": 4,
 "nbformat_minor": 2
}
