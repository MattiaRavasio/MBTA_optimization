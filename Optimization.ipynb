{
 "cells": [
  {
   "cell_type": "code",
   "execution_count": 1,
   "metadata": {},
   "outputs": [],
   "source": [
    "using JuMP, Gurobi, CSV, DataFrames"
   ]
  },
  {
   "cell_type": "code",
   "execution_count": 2,
   "metadata": {},
   "outputs": [],
   "source": [
    "\"\"\"\n",
    "\"VERY_EARLY_MORNING\",\n",
    "\"EARLY_AM\",\n",
    "\"AM_PEAK\",\n",
    "\"MIDDAY_SCHOOL\",\n",
    "\"MIDDAY_BASE\",\n",
    "\"PM_PEAK\", \n",
    "\"EVENING\", \n",
    "\"LATE_EVENING\", \n",
    "\"NIGHT\"\n",
    "\"\"\";"
   ]
  },
  {
   "cell_type": "markdown",
   "metadata": {},
   "source": [
    "### Data loading"
   ]
  },
  {
   "cell_type": "code",
   "execution_count": 3,
   "metadata": {},
   "outputs": [],
   "source": [
    "Blue1 = Matrix(CSV.read(\"processed_data/Blue1_dataset.csv\", DataFrame));\n",
    "Blue2 = Matrix(CSV.read(\"processed_data/Blue2_dataset.csv\", DataFrame));\n",
    "\n",
    "Orange1 = Matrix(CSV.read(\"processed_data/Orange1_dataset.csv\", DataFrame));\n",
    "Orange2 = Matrix(CSV.read(\"processed_data/Orange2_dataset.csv\", DataFrame));\n",
    "\n",
    "Green1 = Matrix(CSV.read(\"processed_data/Green1_dataset.csv\", DataFrame));\n",
    "Green2 = Matrix(CSV.read(\"processed_data/Green2_dataset.csv\", DataFrame));\n",
    "\n",
    "Red1 = Matrix(CSV.read(\"processed_data/Red1_dataset.csv\", DataFrame));\n",
    "Red2 = Matrix(CSV.read(\"processed_data/Red2_dataset.csv\", DataFrame));"
   ]
  },
  {
   "cell_type": "code",
   "execution_count": 4,
   "metadata": {},
   "outputs": [],
   "source": [
    "AvgFlowBlue = cat(Blue1, Blue2, dims = 3);\n",
    "AvgFlowOrange = cat(Orange1, Orange2, dims = 3);\n",
    "AvgFlowGreen = cat(Green1, Green2, dims = 3);\n",
    "AvgFlowRed = cat(Red1, Red2, dims = 3);"
   ]
  },
  {
   "cell_type": "code",
   "execution_count": 5,
   "metadata": {},
   "outputs": [],
   "source": [
    "cost_blue = 10000;\n",
    "cost_orange = 9000;\n",
    "cost_green = 8000;\n",
    "cost_red = 10000;\n",
    "\n",
    "capacity_blue = 1000;\n",
    "capacity_orange = 1100;\n",
    "capacity_green = 900;\n",
    "capacity_red = 1100;\n",
    "\n",
    "q = 2.4;"
   ]
  },
  {
   "cell_type": "markdown",
   "metadata": {},
   "source": [
    "## Blue model"
   ]
  },
  {
   "cell_type": "code",
   "execution_count": 27,
   "metadata": {},
   "outputs": [
    {
     "data": {
      "text/plain": [
       "(12, 9, 2)"
      ]
     },
     "metadata": {},
     "output_type": "display_data"
    }
   ],
   "source": [
    "size(AvgFlowBlue)"
   ]
  },
  {
   "cell_type": "code",
   "execution_count": 6,
   "metadata": {},
   "outputs": [],
   "source": [
    "stations_b, times, directions = size(AvgFlowBlue);"
   ]
  },
  {
   "cell_type": "code",
   "execution_count": 13,
   "metadata": {},
   "outputs": [
    {
     "name": "stdout",
     "output_type": "stream",
     "text": [
      "Set parameter Username\n",
      "Academic license - for non-commercial use only - expires 2023-10-04\n",
      "Gurobi Optimizer version 9.5.2 build v9.5.2rc0 (mac64[arm])\n",
      "Thread count: 8 physical cores, 8 logical processors, using up to 8 threads\n",
      "Optimize a model with 274 rows, 270 columns and 810 nonzeros\n",
      "Model fingerprint: 0xf4e897e9\n",
      "Variable types: 0 continuous, 270 integer (0 binary)\n",
      "Coefficient statistics:\n",
      "  Matrix range     [1e+00, 1e+03]\n",
      "  Objective range  [2e+00, 1e+04]\n",
      "  Bounds range     [0e+00, 0e+00]\n",
      "  RHS range        [1e+00, 1e+04]\n",
      "Found heuristic solution: objective 756165.60000\n",
      "Presolve removed 124 rows and 120 columns\n",
      "Presolve time: 0.00s\n",
      "Presolved: 150 rows, 150 columns, 443 nonzeros\n",
      "Variable types: 0 continuous, 150 integer (0 binary)\n",
      "Found heuristic solution: objective 754165.60000\n",
      "\n",
      "Root relaxation: objective 5.431186e+05, 72 iterations, 0.00 seconds (0.00 work units)\n",
      "\n",
      "    Nodes    |    Current Node    |     Objective Bounds      |     Work\n",
      " Expl Unexpl |  Obj  Depth IntInf | Incumbent    BestBd   Gap | It/Node Time\n",
      "\n",
      "     0     0 543118.600    0   24 754165.600 543118.600  28.0%     -    0s\n",
      "H    0     0                    566488.80000 543118.600  4.13%     -    0s\n",
      "H    0     0                    554485.60000 543118.600  2.05%     -    0s\n",
      "     0     0 545258.346    0   33 554485.600 545258.346  1.66%     -    0s\n",
      "H    0     0                    552656.80000 546957.262  1.03%     -    0s\n",
      "     0     0 547057.243    0   19 552656.800 547057.243  1.01%     -    0s\n",
      "     0     0 547057.243    0   15 552656.800 547057.243  1.01%     -    0s\n",
      "H    0     0                    548868.00000 547057.243  0.33%     -    0s\n",
      "H    0     0                    547060.80000 547057.243  0.00%     -    0s\n",
      "\n",
      "Cutting planes:\n",
      "  Gomory: 5\n",
      "  MIR: 13\n",
      "\n",
      "Explored 1 nodes (103 simplex iterations) in 0.02 seconds (0.00 work units)\n",
      "Thread count was 8 (of 8 available processors)\n",
      "\n",
      "Solution count 7: 547061 548868 552657 ... 756166\n",
      "\n",
      "Optimal solution found (tolerance 1.00e-04)\n",
      "Best objective 5.470608000000e+05, best bound 5.470608000000e+05, gap 0.0000%\n",
      "\n",
      "User-callback calls 270, time in user-callback 0.00 sec\n"
     ]
    }
   ],
   "source": [
    "modelBlue = Model(Gurobi.Optimizer)\n",
    "\n",
    "@variable(modelBlue, x[1:directions, 1:times] >= 0, Int)\n",
    "@variable(modelBlue, u[1:directions, 1:times, 1:stations_b] >= 0, Int)\n",
    "@variable(modelBlue, s[1:directions, 1:times] >= 0, Int)\n",
    "@variable(modelBlue, r[1:directions, 1:times], Int)\n",
    "\n",
    "@constraint(modelBlue, [d=1:directions, j=1:times, i=1:stations_b], \n",
    "    u[d,j,i] + capacity_blue * (x[d,j] + s[d,j]) >= AvgFlowBlue[i,j,d])\n",
    "\n",
    "@constraint(modelBlue,  r[2,1] ==   x[1,1] )\n",
    "@constraint(modelBlue,  r[1,1] ==  x[2,1]  ) \n",
    "@constraint(modelBlue, [j=2:times], r[2,j] ==   x[1,j] +  s[1,j]  - s[2,j] + r[2,j-1])\n",
    "@constraint(modelBlue, [j=2:times], r[1,j] ==  x[2,j] +  s[2,j] - s[1,j] + r[1,j-1])\n",
    "\n",
    "@constraint(modelBlue, [d=1:directions], s[d,1] == 0)\n",
    "@constraint(modelBlue, [d=1:directions, j=2:times], s[d,j] <= r[d,j-1])\n",
    "\n",
    "@constraint(modelBlue, [d=1:directions], r[1, times]  >=  x[1,1])\n",
    "@constraint(modelBlue, [d=1:directions], r[2, times]  >=  x[2,1])\n",
    "\n",
    "@constraint(modelBlue, [j=1:times, d=1:directions], x[d,j] + s[d,j] >= 1)\n",
    "\n",
    "@objective(modelBlue, Min, sum(sum(cost_blue * x[d,j] + 0.9 * cost_blue * s[d,j] + \n",
    "            sum(q * u[d,j,i] for i=1:stations_b) for d=1:directions) for j=1:times))\n",
    "\n",
    "optimize!(modelBlue)"
   ]
  },
  {
   "cell_type": "code",
   "execution_count": null,
   "metadata": {},
   "outputs": [],
   "source": [
    "###### BLUE added the Int to u and r[1, times]  >=  x[1,1], r[2, times]  >=  x[2,1]"
   ]
  },
  {
   "cell_type": "code",
   "execution_count": 14,
   "metadata": {},
   "outputs": [],
   "source": [
    "### Also all dual variables for robust must be integers :("
   ]
  },
  {
   "cell_type": "code",
   "execution_count": 15,
   "metadata": {},
   "outputs": [],
   "source": [
    "#### Evaluate if to use integers also for U or not"
   ]
  },
  {
   "cell_type": "markdown",
   "metadata": {},
   "source": [
    "## Orange model"
   ]
  },
  {
   "cell_type": "code",
   "execution_count": 16,
   "metadata": {},
   "outputs": [],
   "source": [
    "stations_o, times, directions = size(AvgFlowOrange);"
   ]
  },
  {
   "cell_type": "code",
   "execution_count": 17,
   "metadata": {},
   "outputs": [
    {
     "name": "stdout",
     "output_type": "stream",
     "text": [
      "Set parameter Username\n",
      "Academic license - for non-commercial use only - expires 2023-10-04\n",
      "Gurobi Optimizer version 9.5.2 build v9.5.2rc0 (mac64[arm])\n",
      "Thread count: 8 physical cores, 8 logical processors, using up to 8 threads\n",
      "Optimize a model with 418 rows, 414 columns and 1242 nonzeros\n",
      "Model fingerprint: 0xdb38f6d2\n",
      "Variable types: 0 continuous, 414 integer (0 binary)\n",
      "Coefficient statistics:\n",
      "  Matrix range     [1e+00, 1e+03]\n",
      "  Objective range  [2e+00, 9e+03]\n",
      "  Bounds range     [0e+00, 0e+00]\n",
      "  RHS range        [1e+00, 1e+04]\n",
      "Found heuristic solution: objective 2174659.2000\n",
      "Presolve removed 159 rows and 155 columns\n",
      "Presolve time: 0.00s\n",
      "Presolved: 259 rows, 259 columns, 777 nonzeros\n",
      "Variable types: 0 continuous, 259 integer (0 binary)\n",
      "Found heuristic solution: objective 2172859.2000\n",
      "\n",
      "Root relaxation: objective 7.647100e+05, 74 iterations, 0.00 seconds (0.00 work units)\n",
      "\n",
      "    Nodes    |    Current Node    |     Objective Bounds      |     Work\n",
      " Expl Unexpl |  Obj  Depth IntInf | Incumbent    BestBd   Gap | It/Node Time\n",
      "\n",
      "     0     0 764710.036    0   30 2172859.20 764710.036  64.8%     -    0s\n",
      "H    0     0                    800918.40000 764710.036  4.52%     -    0s\n",
      "H    0     0                    799708.80000 764710.036  4.38%     -    0s\n",
      "     0     0 769546.128    0   37 799708.800 769546.128  3.77%     -    0s\n",
      "H    0     0                    794328.00000 769546.128  3.12%     -    0s\n",
      "H    0     0                    775891.20000 772812.635  0.40%     -    0s\n",
      "     0     0 775891.200    0   37 775891.200 775891.200  0.00%     -    0s\n",
      "\n",
      "Cutting planes:\n",
      "  Gomory: 4\n",
      "  MIR: 21\n",
      "\n",
      "Explored 1 nodes (119 simplex iterations) in 0.02 seconds (0.01 work units)\n",
      "Thread count was 8 (of 8 available processors)\n",
      "\n",
      "Solution count 6: 775891 794328 799709 ... 2.17466e+06\n",
      "\n",
      "Optimal solution found (tolerance 1.00e-04)\n",
      "Best objective 7.758912000000e+05, best bound 7.758912000000e+05, gap 0.0000%\n",
      "\n",
      "User-callback calls 265, time in user-callback 0.00 sec\n"
     ]
    }
   ],
   "source": [
    "modelOrange = Model(Gurobi.Optimizer)\n",
    "\n",
    "@variable(modelOrange, x[1:directions, 1:times] >= 0, Int)\n",
    "@variable(modelOrange, u[1:directions, 1:times, 1:stations_o] >= 0, Int)\n",
    "@variable(modelOrange, s[1:directions, 1:times] >= 0, Int)\n",
    "@variable(modelOrange, r[1:directions, 1:times], Int)\n",
    "\n",
    "@constraint(modelOrange, [d=1:directions, j=1:times, i=1:stations_o], \n",
    "    u[d,j,i] + capacity_orange * (x[d,j] + s[d,j]) >= AvgFlowOrange[i,j,d])\n",
    "\n",
    "@constraint(modelOrange,  r[2,1] ==   x[1,1] )\n",
    "@constraint(modelOrange,  r[1,1] ==  x[2,1]  ) \n",
    "@constraint(modelOrange, [j=2:times], r[2,j] ==   x[1,j] +  s[1,j]  - s[2,j] + r[2,j-1])\n",
    "@constraint(modelOrange, [j=2:times], r[1,j] ==  x[2,j] +  s[2,j] - s[1,j] + r[1,j-1])\n",
    "\n",
    "@constraint(modelOrange, [d=1:directions], s[d,1] == 0)\n",
    "@constraint(modelOrange, [d=1:directions, j=2:times], s[d,j] <= r[d,j-1])\n",
    "\n",
    "@constraint(modelOrange, [d=1:directions], r[1, times]  >=  x[1,1])\n",
    "@constraint(modelOrange, [d=1:directions], r[2, times]  >=  x[2,1])\n",
    "\n",
    "@constraint(modelOrange, [j=1:times, d=1:directions], x[d,j] + s[d,j] >= 1)\n",
    "\n",
    "@objective(modelOrange, Min, sum(sum(cost_orange * x[d,j] + 0.9 * cost_orange * s[d,j] + \n",
    "            sum(q * u[d,j,i] for i=1:stations_o) for d=1:directions) for j=1:times))\n",
    "\n",
    "optimize!(modelOrange)"
   ]
  },
  {
   "cell_type": "markdown",
   "metadata": {},
   "source": [
    "## Red model"
   ]
  },
  {
   "cell_type": "code",
   "execution_count": 29,
   "metadata": {},
   "outputs": [],
   "source": [
    "stations_r, times, directions = size(AvgFlowRed);\n",
    "lines = 2;"
   ]
  },
  {
   "cell_type": "code",
   "execution_count": 30,
   "metadata": {},
   "outputs": [],
   "source": [
    "Red1 = [\"Alewife\", \"Davis\", \"Porter\", \"Harvard\", \"Central\", \"Kendall/MIT\", \"Charles/MGH\",\n",
    "     \"Park Street\", \"Downtown Crossing\", \"South Station\", \"Broadway\", \"Andrew\", \"JFK/Umass\",\n",
    "      \"Savin Hill\", \"Fields Corner\", \"Shawmut\", \"Ashmont\"];\n",
    "\n",
    "Red2 = [\"Alewife\", \"Davis\", \"Porter\", \"Harvard\", \"Central\", \"Kendall/MIT\", \"Charles/MGH\",\n",
    "     \"Park Street\", \"Downtown Crossing\", \"South Station\", \"Broadway\", \"Andrew\", \"JFK/Umass\",\n",
    "      \"North Quincy\", \"Wollaston\", \"Quincy Center\", \"Quincy Adams\", \"Braintree\"];\n",
    "\n",
    "red_stations = [\"Braintree\", \"Harvard\", \"Quincy Adams\", \"Charles/MGH\",\n",
    "      \"Quincy Center\", \"Savin Hill\", \"Central\", \"JFK/Umass\", \"Davis\",\n",
    "      \"Kendall/MIT\", \"Alewife\", \"Shawmut\", \"Downtown Crossing\",\n",
    "      \"North Quincy\", \"Andrew\", \"South Station\", \"Fields Corner\",\n",
    "      \"Park Street\", \"Porter\", \"Wollaston\", \"Ashmont\", \"Broadway\"];"
   ]
  },
  {
   "cell_type": "code",
   "execution_count": 31,
   "metadata": {},
   "outputs": [],
   "source": [
    "z_red = zeros((2,22));\n",
    "\n",
    "for i = 1:22\n",
    "    if red_stations[i] in Red1\n",
    "        z_red[1,i] = 1\n",
    "    end\n",
    "    if red_stations[i] in Red2\n",
    "        z_red[2,i] = 1\n",
    "    end\n",
    "end"
   ]
  },
  {
   "cell_type": "code",
   "execution_count": 32,
   "metadata": {},
   "outputs": [
    {
     "name": "stdout",
     "output_type": "stream",
     "text": [
      "Set parameter Username\n",
      "Academic license - for non-commercial use only - expires 2023-10-04\n",
      "Gurobi Optimizer version 9.5.2 build v9.5.2rc0 (mac64[arm])\n",
      "Thread count: 8 physical cores, 8 logical processors, using up to 8 threads\n",
      "Optimize a model with 512 rows, 1224 columns and 1980 nonzeros\n",
      "Model fingerprint: 0x7970887a\n",
      "Variable types: 0 continuous, 1224 integer (0 binary)\n",
      "Coefficient statistics:\n",
      "  Matrix range     [1e+00, 1e+03]\n",
      "  Objective range  [2e+00, 1e+04]\n",
      "  Bounds range     [0e+00, 0e+00]\n",
      "  RHS range        [1e+00, 2e+04]\n",
      "Found heuristic solution: objective 2280954.4000\n",
      "Presolve removed 143 rows and 855 columns\n",
      "Presolve time: 0.00s\n",
      "Presolved: 369 rows, 369 columns, 1498 nonzeros\n",
      "Variable types: 0 continuous, 369 integer (0 binary)\n",
      "Found heuristic solution: objective 2277954.4000\n",
      "\n",
      "Root relaxation: objective 1.402854e+06, 129 iterations, 0.00 seconds (0.00 work units)\n",
      "\n",
      "    Nodes    |    Current Node    |     Objective Bounds      |     Work\n",
      " Expl Unexpl |  Obj  Depth IntInf | Incumbent    BestBd   Gap | It/Node Time\n",
      "\n",
      "     0     0 1402853.89    0   49 2277954.40 1402853.89  38.4%     -    0s\n",
      "H    0     0                    1500428.0000 1402853.89  6.50%     -    0s\n",
      "H    0     0                    1490914.4000 1402853.89  5.91%     -    0s\n",
      "H    0     0                    1452029.6000 1402853.89  3.39%     -    0s\n",
      "H    0     0                    1410788.8000 1408004.39  0.20%     -    0s\n",
      "     0     0 1408004.39    0   36 1410788.80 1408004.39  0.20%     -    0s\n",
      "     0     0 1410290.79    0   27 1410788.80 1410290.79  0.04%     -    0s\n",
      "     0     0 1410290.79    0   30 1410788.80 1410290.79  0.04%     -    0s\n",
      "H    0     0                    1410344.8000 1410290.79  0.00%     -    0s\n",
      "\n",
      "Cutting planes:\n",
      "  Gomory: 7\n",
      "  MIR: 30\n",
      "  StrongCG: 1\n",
      "\n",
      "Explored 1 nodes (174 simplex iterations) in 0.02 seconds (0.01 work units)\n",
      "Thread count was 8 (of 8 available processors)\n",
      "\n",
      "Solution count 7: 1.41034e+06 1.41079e+06 1.45203e+06 ... 2.28095e+06\n",
      "\n",
      "Optimal solution found (tolerance 1.00e-04)\n",
      "Best objective 1.410344800000e+06, best bound 1.410344800000e+06, gap 0.0000%\n",
      "\n",
      "User-callback calls 273, time in user-callback 0.00 sec\n"
     ]
    }
   ],
   "source": [
    "modelRed = Model(Gurobi.Optimizer)\n",
    "\n",
    "@variable(modelRed, x[1:directions, 1:times, 1:lines] >= 0, Int)\n",
    "@variable(modelRed, u[1:directions, 1:times, 1:stations_r] >= 0, Int)\n",
    "@variable(modelRed, s[1:directions, 1:times, 1:stations_r] >= 0, Int)\n",
    "@variable(modelRed, r[1:directions, 1:times, 1:stations_r], Int)\n",
    "\n",
    "@constraint(modelRed, [d=1:directions, j=1:times, i=1:stations_r], \n",
    "    u[d,j,i] + (sum(capacity_red * (x[d,j,l] + s[d,j,l]) * z_red[l,i] for l=1:lines)) >= AvgFlowRed[i,j,d])\n",
    "\n",
    "@constraint(modelRed, [l=1:lines], r[2,1,l] ==   x[1,1,l] )\n",
    "@constraint(modelRed, [l=1:lines], r[1,1,l] ==  x[2,1,l]  ) \n",
    "@constraint(modelRed, [j=2:times, l=1:lines], r[2,j,l] ==   x[1,j,l] +  s[1,j,l]  - s[2,j,l] + r[2,j-1,l])\n",
    "@constraint(modelRed, [j=2:times, l=1:lines], r[1,j,l] ==  x[2,j,l] +  s[2,j,l] - s[1,j,l] + r[1,j-1,l])\n",
    "\n",
    "@constraint(modelRed, [d=1:directions, l=1:lines], s[d,1,l] == 0)\n",
    "@constraint(modelRed, [d=1:directions, j=2:times, l=1:lines], s[d,j,l] <= r[d,j-1,l])\n",
    "\n",
    "@constraint(modelRed, [d=1:directions, l=1:lines], r[1, times, l]  >=  x[1,1,l])\n",
    "@constraint(modelRed, [d=1:directions, l=1:lines], r[2, times, l]  >=  x[2,1,l])\n",
    "\n",
    "@constraint(modelRed, [j=1:times, d=1:directions, l=1:lines], x[d,j,l] + s[d,j,l] >= 1)\n",
    "\n",
    "@objective(modelRed, Min, sum( sum(cost_red * x[d,j,l] + 0.9 * cost_red * s[d,j,l] for l=1:lines ) + \n",
    "                sum(q * u[d,j,i] for i=1:stations_r) for d=1:directions,  j=1:times))\n",
    "\n",
    "optimize!(modelRed)"
   ]
  },
  {
   "cell_type": "markdown",
   "metadata": {},
   "source": [
    "### Green line"
   ]
  },
  {
   "cell_type": "code",
   "execution_count": 36,
   "metadata": {},
   "outputs": [],
   "source": [
    "stations_g, times, directions = size(AvgFlowGreen);\n",
    "lines = 4;"
   ]
  },
  {
   "cell_type": "code",
   "execution_count": 37,
   "metadata": {},
   "outputs": [],
   "source": [
    "Green1 = [\"Lechmere\", \"Science Park\", \"North Station\", \"Haymarket\", \"Government Center\", \"Park Street\", \"Boylston\",\n",
    " \"Arlington\", \"Copley\", \"Hynes Convention Center\", \"Kenmore\", \"Blandford Street\", \"Boston Univ. East\", \n",
    " \"Boston Univ. Central\", \"Boston Univ. West\", \"Saint Paul Street\", \"Pleasant Street\", \"Babcock Street\",\n",
    " \"Harvard Ave.\",\"Griggs Street\", \"Allston Street\", \"Warren Street\", \"Washington Street\", \"Sutherland Road\",\n",
    "\"Chiswick Road\", \"Chestnut Hill Ave.\", \"South Street\"];\n",
    "\n",
    "Green2 = [\"Government Center\", \"Park Street\", \"Boylston\", \"Arlington\", \"Copley\", \"Hynes Convention Center\", \"Kenmore\", \n",
    "\"Saint Mary Street\", \"Hawes Street\", \"Kent Street\", \"Saint Paul Street\", \"Coolidge Corner\", \"Summit Ave.\", \n",
    "\"Brandon Hall\", \"Fairbanks Street\", \"Washington Square\", \"Tappan Street\", \"Dean Road\", \"Englewood Ave.\", \"Cleveland Circle\"];\n",
    "\n",
    "Green3 = [\"Lechmere\", \"Science Park\", \"North Station\", \"Haymarket\", \"Government Center\", \"Park Street\", \"Boylston\", \n",
    "\"Arlington\", \"Copley\", \"Hynes Convention Center\", \"Kenmore\", \"Fenway\", \"Longwood\", \"Brookline Village\", \"Brookline Hills\",\n",
    "\"Beaconsfield\", \"Reservoir\", \"Chestnut Hill Ave.\", \"Newton Centre\", \"Newton Highlands\", \"Eliot\", \"Waban\", \"Woodland\", \n",
    "\"Riverside\"];\n",
    "\n",
    "Green4 = [\"Lechmere\", \"Science Park\", \"North Station\", \"Haymarket\", \"Government Center\", \"Park Street\", \"Boylston\",\n",
    "    \"Arlington\", \"Copley\", \"Prudential\", \"Symphony\", \"Northeastern University\", \"Museum of Fine Arts\", \"Longwood\",\n",
    "    \"Brigham Circle\", \"Fenwood Road\", \"Mission Park\", \"Riverway\", \"Back of the Hill\", \"Heath Street\"];\n",
    "\n",
    "green_stations = [\"Allston Street\", \"Arlington\", \"Babcock Street\",\n",
    "\"Back of the Hill\", \"Beaconsfield\", \"Washington Square\",\n",
    "\"Blandford Street\", \"Brandon Hall\", \"Boylston\", \"Packards Corner\",\n",
    "\"Brookline Hills\", \"Brigham Circle\", \"Boston Univ. Central\",\n",
    "\"Boston Univ. East\", \"Boston Univ. West\", \"Brookline Village\",\n",
    "\"Chestnut Hill\", \"Chestnut Hill Ave.\", \"Chiswick Road\",\n",
    "\"Cleveland Circle\", \"Copley\", \"Coolidge Corner\", \"Dean Road\",\n",
    "\"Eliot\", \"Englewood Ave.\", \"Fairbanks Street\", \"Fenwood Road\",\n",
    "\"Fenway\", \"Government Center\", \"Griggs Street\", \"Haymarket\",\n",
    "\"Harvard Ave.\", \"Heath Street\", \"Hawes Street\",\n",
    "\"Hynes Convention Center\", \"Kenmore\", \"Kent Street\",\n",
    "\"Boston College\", \"Lechmere\", \"Longwood Medical Area\", \"Longwood\",\n",
    "\"Museum of Fine Arts\", \"Mission Park\", \"Newton Highlands\",\n",
    "\"Newton Centre\", \"North Station\", \"Northeastern University\",\n",
    "\"Park Street\", \"Pleasant Street\", \"Prudential\", \"Riverside\",\n",
    "\"Reservoir\", \"Riverway\", \"Saint Mary Street\", \"South Street\",\n",
    "\"Science Park\", \"Sutherland Road\", \"Saint Paul Street\",\n",
    "\"St Pul Street\", \"Summit Ave.\", \"Symphony\", \"Tappan Street\",\n",
    "\"Waban\", \"Washington Street\", \"Woodland\", \"Warren Street\"];\n"
   ]
  },
  {
   "cell_type": "code",
   "execution_count": 38,
   "metadata": {},
   "outputs": [],
   "source": [
    "z_green = zeros((4,66));\n",
    "\n",
    "for i = 1:66\n",
    "    if green_stations[i] in Green1\n",
    "        z_green[1,i] = 1\n",
    "    end\n",
    "    if green_stations[i] in Green2\n",
    "        z_green[2,i] = 1\n",
    "    end\n",
    "    if green_stations[i] in Green3 \n",
    "        z_green[3,i] = 1\n",
    "    end\n",
    "    if green_stations[i] in Green4 \n",
    "        z_green[4,i] = 1\n",
    "    end\n",
    "end"
   ]
  },
  {
   "cell_type": "code",
   "execution_count": 39,
   "metadata": {},
   "outputs": [
    {
     "name": "stdout",
     "output_type": "stream",
     "text": [
      "Set parameter Username\n",
      "Academic license - for non-commercial use only - expires 2023-10-04\n",
      "Gurobi Optimizer version 9.5.2 build v9.5.2rc0 (mac64[arm])\n",
      "Thread count: 8 physical cores, 8 logical processors, using up to 8 threads\n",
      "Optimize a model with 1420 rows, 3636 columns and 5112 nonzeros\n",
      "Model fingerprint: 0x2b0ecdd7\n",
      "Variable types: 0 continuous, 3636 integer (0 binary)\n",
      "Coefficient statistics:\n",
      "  Matrix range     [1e+00, 9e+02]\n",
      "  Objective range  [2e+00, 8e+03]\n",
      "  Bounds range     [0e+00, 0e+00]\n",
      "  RHS range        [1e+00, 1e+04]\n",
      "Found heuristic solution: objective 1203773.6000\n",
      "Presolve removed 886 rows and 3102 columns\n",
      "Presolve time: 0.00s\n",
      "Presolved: 534 rows, 534 columns, 2544 nonzeros\n",
      "Variable types: 0 continuous, 534 integer (2 binary)\n",
      "Found heuristic solution: objective 1199773.6000\n",
      "\n",
      "Root relaxation: objective 1.120302e+06, 222 iterations, 0.00 seconds (0.00 work units)\n",
      "\n",
      "    Nodes    |    Current Node    |     Objective Bounds      |     Work\n",
      " Expl Unexpl |  Obj  Depth IntInf | Incumbent    BestBd   Gap | It/Node Time\n",
      "\n",
      "     0     0 1120302.04    0   74 1199773.60 1120302.04  6.62%     -    0s\n",
      "H    0     0                    1140220.0000 1120302.04  1.75%     -    0s\n",
      "     0     0 1127839.42    0   64 1140220.00 1127839.42  1.09%     -    0s\n",
      "H    0     0                    1138972.8000 1127839.42  0.98%     -    0s\n",
      "H    0     0                    1138704.0000 1130726.37  0.70%     -    0s\n",
      "     0     0 1133657.33    0   64 1138704.00 1133657.33  0.44%     -    0s\n",
      "     0     0 1133657.33    0   45 1138704.00 1133657.33  0.44%     -    0s\n",
      "     0     0 1133657.33    0   50 1138704.00 1133657.33  0.44%     -    0s\n",
      "     0     0 1133657.33    0   37 1138704.00 1133657.33  0.44%     -    0s\n",
      "     0     0 1133657.33    0   14 1138704.00 1133657.33  0.44%     -    0s\n",
      "H    0     0                    1134421.6000 1133657.33  0.07%     -    0s\n",
      "\n",
      "Cutting planes:\n",
      "  Gomory: 9\n",
      "  MIR: 53\n",
      "\n",
      "Explored 1 nodes (351 simplex iterations) in 0.03 seconds (0.03 work units)\n",
      "Thread count was 8 (of 8 available processors)\n",
      "\n",
      "Solution count 6: 1.13442e+06 1.1387e+06 1.13897e+06 ... 1.20377e+06\n",
      "\n",
      "Optimal solution found (tolerance 1.00e-04)\n",
      "Best objective 1.134421600000e+06, best bound 1.134421600000e+06, gap 0.0000%\n",
      "\n",
      "User-callback calls 295, time in user-callback 0.00 sec\n"
     ]
    }
   ],
   "source": [
    "modelGreen = Model(Gurobi.Optimizer)\n",
    "\n",
    "@variable(modelGreen, x[1:directions, 1:times, 1:lines] >= 0, Int)\n",
    "@variable(modelGreen, u[1:directions, 1:times, 1:stations_g] >= 0, Int)\n",
    "@variable(modelGreen, s[1:directions, 1:times, 1:stations_g] >= 0, Int)\n",
    "@variable(modelGreen, r[1:directions, 1:times, 1:stations_g], Int)\n",
    "\n",
    "@constraint(modelGreen, [d=1:directions, j=1:times, i=1:stations_g], \n",
    "    u[d,j,i] + (sum(capacity_green * (x[d,j,l] + s[d,j,l]) * z_green[l,i] for l=1:lines)) >= AvgFlowGreen[i,j,d])\n",
    "\n",
    "@constraint(modelGreen, [l=1:lines], r[2,1,l] ==   x[1,1,l] )\n",
    "@constraint(modelGreen, [l=1:lines], r[1,1,l] ==  x[2,1,l]  ) \n",
    "@constraint(modelGreen, [j=2:times, l=1:lines], r[2,j,l] ==   x[1,j,l] +  s[1,j,l]  - s[2,j,l] + r[2,j-1,l])\n",
    "@constraint(modelGreen, [j=2:times, l=1:lines], r[1,j,l] ==  x[2,j,l] +  s[2,j,l] - s[1,j,l] + r[1,j-1,l])\n",
    "\n",
    "@constraint(modelGreen, [d=1:directions, l=1:lines], s[d,1,l] == 0)\n",
    "@constraint(modelGreen, [d=1:directions, j=2:times, l=1:lines], s[d,j,l] <= r[d,j-1,l])\n",
    "\n",
    "@constraint(modelGreen, [d=1:directions, l=1:lines], r[1, times, l]  >=  x[1,1,l])\n",
    "@constraint(modelGreen, [d=1:directions, l=1:lines], r[2, times, l]  >=  x[2,1,l])\n",
    "\n",
    "@constraint(modelGreen, [j=1:times, d=1:directions, l=1:lines], x[d,j,l] + s[d,j,l] >= 1)\n",
    "\n",
    "@objective(modelGreen, Min, sum( sum(cost_green * x[d,j,l] + 0.9 * cost_green * s[d,j,l] for l=1:lines ) + \n",
    "                sum(q * u[d,j,i] for i=1:stations_g) for d=1:directions,  j=1:times))\n",
    "\n",
    "optimize!(modelGreen)"
   ]
  }
 ],
 "metadata": {
  "kernelspec": {
   "display_name": "Julia 1.8.2",
   "language": "julia",
   "name": "julia-1.8"
  },
  "language_info": {
   "file_extension": ".jl",
   "mimetype": "application/julia",
   "name": "julia",
   "version": "1.8.2"
  },
  "orig_nbformat": 4
 },
 "nbformat": 4,
 "nbformat_minor": 2
}
