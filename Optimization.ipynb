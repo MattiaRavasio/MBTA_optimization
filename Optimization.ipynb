{
 "cells": [
  {
   "cell_type": "code",
   "execution_count": 7,
   "metadata": {},
   "outputs": [],
   "source": [
    "using JuMP, Gurobi, CSV, DataFrames"
   ]
  },
  {
   "cell_type": "markdown",
   "metadata": {},
   "source": [
    "### Data loading"
   ]
  },
  {
   "cell_type": "code",
   "execution_count": 27,
   "metadata": {},
   "outputs": [],
   "source": [
    "Blue1 = Matrix(CSV.read(\"Blue1_dataset.csv\", DataFrame))[:,2:end];\n",
    "Blue2 = Matrix(CSV.read(\"Blue2_dataset.csv\", DataFrame))[:,2:end];\n",
    "\n",
    "Orange1 = Matrix(CSV.read(\"Orange1_dataset.csv\", DataFrame))[:,2:end];\n",
    "Orange2 = Matrix(CSV.read(\"Orange2_dataset.csv\", DataFrame))[:,2:end];\n",
    "\n",
    "Green1 = Matrix(CSV.read(\"Green1_dataset.csv\", DataFrame))[:,2:end];\n",
    "Green2 = Matrix(CSV.read(\"Green2_dataset.csv\", DataFrame))[:,2:end];\n",
    "\n",
    "Red1 = Matrix(CSV.read(\"Red1_dataset.csv\", DataFrame))[:,2:end];\n",
    "Red2 = Matrix(CSV.read(\"Red2_dataset.csv\", DataFrame))[:,2:end];"
   ]
  },
  {
   "cell_type": "code",
   "execution_count": 28,
   "metadata": {},
   "outputs": [],
   "source": [
    "AvgFlowBlue = cat(Blue1, Blue2, dims = 3);\n",
    "AvgFlowOrange = cat(Orange1, Orange2, dims = 3);\n",
    "AvgFlowGreen = cat(Green1, Green2, dims = 3);\n",
    "AvgFlowRed = cat(Red1, Red2, dims = 3);"
   ]
  },
  {
   "cell_type": "code",
   "execution_count": 29,
   "metadata": {},
   "outputs": [],
   "source": [
    "cost_blue = 10000;\n",
    "cost_orange = 9000;\n",
    "cost_green = 8000;\n",
    "cost_red = 10000;\n",
    "\n",
    "capacity_blue = 1000;\n",
    "capacity_orange = 1100;\n",
    "capacity_green = 900;\n",
    "capacity_red = 1100;"
   ]
  },
  {
   "cell_type": "code",
   "execution_count": null,
   "metadata": {},
   "outputs": [],
   "source": []
  }
 ],
 "metadata": {
  "kernelspec": {
   "display_name": "Julia 1.8.2",
   "language": "julia",
   "name": "julia-1.8"
  },
  "language_info": {
   "file_extension": ".jl",
   "mimetype": "application/julia",
   "name": "julia",
   "version": "1.8.2"
  },
  "orig_nbformat": 4
 },
 "nbformat": 4,
 "nbformat_minor": 2
}
