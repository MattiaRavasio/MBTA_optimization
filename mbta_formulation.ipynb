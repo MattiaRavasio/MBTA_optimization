{
 "cells": [
  {
   "cell_type": "markdown",
   "id": "11e252bb",
   "metadata": {},
   "source": [
    "Data: \n",
    "\n",
    "q = 2.40?\n",
    "C = cost csv (one number per line? or color line) \n",
    "c = capacity csv (one number per color line)\n",
    "flow = avg flow csv of dimensions direction, time, station"
   ]
  },
  {
   "cell_type": "code",
   "execution_count": null,
   "id": "dde8ad49",
   "metadata": {},
   "outputs": [],
   "source": [
    "times = 13\n",
    "directions = 2\n",
    "stations_g =\n",
    "stations_r =\n",
    "stations_b =\n",
    "stations_o =\n",
    "lines_g = 4\n",
    "lines_r = 2"
   ]
  },
  {
   "cell_type": "code",
   "execution_count": null,
   "id": "8fc9471f",
   "metadata": {},
   "outputs": [],
   "source": [
    "modelGreen = Model(Gurobi.Optimizer)\n",
    "\n",
    "@variable(modelGreen, x[1:lines_g, 1:times] >= 0)\n",
    "@variable(modelGreen, u[1:directions, 1:times, 1:stations_g] >= 0)\n",
    "@variable(modelGreen, z[1:lines_g, 1:stations_g], Bin)\n",
    "\n",
    "@constraint(modelGreen, [d=1:directions, j=1:times, i=1:stations_g], \n",
    "    z[l,i]*(u[d,j,i] + sum(c*x[l,j] for l=1:lines)) >= flow[d,j,i])\n",
    "\n",
    "@objective(modelGreen, Min, sum(sum(sum(C*x[l,j] + \n",
    "                sum(q*u[d,j,i] for i=1:stations_g) for l=1:lines_g) for d=1:directions) for j=1:times))\n",
    "\n",
    "optimize!(modelGreen)"
   ]
  },
  {
   "cell_type": "code",
   "execution_count": null,
   "id": "449395b8",
   "metadata": {},
   "outputs": [],
   "source": [
    "modelRed = Model(Gurobi.Optimizer)\n",
    "\n",
    "@variable(modelRed, x[1:lines_r, 1:times] >= 0)\n",
    "@variable(modelRed, u[1:directions, 1:times, 1:stations_r] >= 0)\n",
    "@variable(modelRed, z[1:lines_r, 1:stations_r], Bin)\n",
    "\n",
    "@constraint(modelRed, [d=1:directions, j=1:times, i=1:stations_r], \n",
    "    z[l,i]*(u[d,j,i] + sum(c*x[l,j] for l=1:lines_r)) >= flow[d,j,i])\n",
    "\n",
    "@objective(modelRed, Min, sum(sum(sum(C*x[l,j] + \n",
    "                sum(q*u[d,j,i] for i=1:stations_r) for l=1:lines_r) for d=1:directions) for j=1:times))\n",
    "\n",
    "optimize!(modelRed)"
   ]
  },
  {
   "cell_type": "code",
   "execution_count": null,
   "id": "0ed81d6f",
   "metadata": {},
   "outputs": [],
   "source": [
    "modelBlue = Model(Gurobi.Optimizer)\n",
    "\n",
    "@variable(modelBlue, x[1:directions, 1:times] >= 0)\n",
    "@variable(modelBlue, u[1:directions, 1:times, 1:stations_b] >= 0)\n",
    "\n",
    "@constraint(modelBlue, [d=1:directions, j=1:times, i=1:stations_b], \n",
    "    u[d,j,i] + c*x[d,j] >= flow[d,j,i])\n",
    "\n",
    "@objective(modelBlue, Min, sum(sum(C*x[d,j] + \n",
    "            sum(q*u[d,j,i] for i=1:stations_b) for d=1:directions) for j=1:times))\n",
    "\n",
    "optimize!(modelBlue)"
   ]
  },
  {
   "cell_type": "code",
   "execution_count": null,
   "id": "59b991c8",
   "metadata": {},
   "outputs": [],
   "source": [
    "modelOrange = Model(Gurobi.Optimizer)\n",
    "\n",
    "@variable(modelOrange, x[1:directions, 1:times] >= 0)\n",
    "@variable(modelOrange, u[1:directions, 1:times, 1:stations_b] >= 0)\n",
    "\n",
    "@constraint(modelOrange, [d=1:directions, j=1:times, i=1:stations_b], \n",
    "    u[d,j,i] + c*x[d,j] >= flow[d,j,i])\n",
    "\n",
    "@objective(modelOrange, Min, sum(sum(C*x[d,j] + \n",
    "            sum(q*u[d,j,i] for i=1:stations_b) for d=1:directions) for j=1:times))\n",
    "\n",
    "optimize!(modelOrange)"
   ]
  }
 ],
 "metadata": {
  "kernelspec": {
   "display_name": "Julia 1.8.0",
   "language": "julia",
   "name": "julia-1.8"
  },
  "language_info": {
   "file_extension": ".jl",
   "mimetype": "application/julia",
   "name": "julia",
   "version": "1.8.0"
  }
 },
 "nbformat": 4,
 "nbformat_minor": 5
}
